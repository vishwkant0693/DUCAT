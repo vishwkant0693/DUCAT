{
 "cells": [
  {
   "cell_type": "code",
   "execution_count": 4,
   "id": "20dec99b",
   "metadata": {},
   "outputs": [
    {
     "name": "stdout",
     "output_type": "stream",
     "text": [
      "number5\n",
      "120\n"
     ]
    }
   ],
   "source": [
    "f=1\n",
    "x=int(input(\"number\"))\n",
    "for i in range(1,x+1):\n",
    "    f=f*i\n",
    "print(f)"
   ]
  },
  {
   "cell_type": "code",
   "execution_count": 11,
   "id": "617d645d",
   "metadata": {
    "scrolled": false
   },
   "outputs": [
    {
     "name": "stdout",
     "output_type": "stream",
     "text": [
      "number5\n",
      "* \n",
      "* * \n",
      "* * * \n",
      "* * * * \n",
      "* * * * * \n"
     ]
    }
   ],
   "source": [
    "x=int(input(\"number\"))\n",
    "for i in range(1,x+1):\n",
    "    for j in range(i):\n",
    "        print(\"*\",end=\" \")\n",
    "    print()"
   ]
  },
  {
   "cell_type": "markdown",
   "id": "4116b5e9",
   "metadata": {},
   "source": [
    "# List"
   ]
  },
  {
   "cell_type": "code",
   "execution_count": 2,
   "id": "a611e85c",
   "metadata": {},
   "outputs": [
    {
     "data": {
      "text/plain": [
       "[2, 3, 4, 5, 6, 7]"
      ]
     },
     "execution_count": 2,
     "metadata": {},
     "output_type": "execute_result"
    }
   ],
   "source": [
    "a=[2,3,4,5,6,7]\n",
    "a"
   ]
  },
  {
   "cell_type": "code",
   "execution_count": 3,
   "id": "33c4b574",
   "metadata": {},
   "outputs": [
    {
     "data": {
      "text/plain": [
       "4"
      ]
     },
     "execution_count": 3,
     "metadata": {},
     "output_type": "execute_result"
    }
   ],
   "source": [
    "a[2]"
   ]
  },
  {
   "cell_type": "code",
   "execution_count": 4,
   "id": "bf0cbdad",
   "metadata": {},
   "outputs": [
    {
     "name": "stdout",
     "output_type": "stream",
     "text": [
      "2\n",
      "3\n",
      "4\n",
      "5\n",
      "6\n",
      "7\n"
     ]
    }
   ],
   "source": [
    "for i in a:\n",
    "    print(i)"
   ]
  },
  {
   "cell_type": "code",
   "execution_count": 5,
   "id": "7106c201",
   "metadata": {},
   "outputs": [],
   "source": [
    "b=[3,78,54,77]"
   ]
  },
  {
   "cell_type": "code",
   "execution_count": 6,
   "id": "d870745d",
   "metadata": {},
   "outputs": [
    {
     "data": {
      "text/plain": [
       "[2, 3, 4, 5, 6, 7, [3, 78, 54, 77]]"
      ]
     },
     "execution_count": 6,
     "metadata": {},
     "output_type": "execute_result"
    }
   ],
   "source": [
    "a.append(b)\n",
    "a"
   ]
  },
  {
   "cell_type": "code",
   "execution_count": 7,
   "id": "4a71fb62",
   "metadata": {},
   "outputs": [
    {
     "data": {
      "text/plain": [
       "7"
      ]
     },
     "execution_count": 7,
     "metadata": {},
     "output_type": "execute_result"
    }
   ],
   "source": [
    "len(a)"
   ]
  },
  {
   "cell_type": "code",
   "execution_count": 8,
   "id": "ea8832b7",
   "metadata": {},
   "outputs": [
    {
     "data": {
      "text/plain": [
       "[2, 3, 4, 5, 6, 7, [3, 78, 54, 77], 3, 78, 54, 77]"
      ]
     },
     "execution_count": 8,
     "metadata": {},
     "output_type": "execute_result"
    }
   ],
   "source": [
    "a.extend(b)\n",
    "a"
   ]
  },
  {
   "cell_type": "code",
   "execution_count": 9,
   "id": "a4b6eb0d",
   "metadata": {},
   "outputs": [
    {
     "data": {
      "text/plain": [
       "11"
      ]
     },
     "execution_count": 9,
     "metadata": {},
     "output_type": "execute_result"
    }
   ],
   "source": [
    "len(a)"
   ]
  },
  {
   "cell_type": "code",
   "execution_count": 10,
   "id": "ec613d7f",
   "metadata": {},
   "outputs": [
    {
     "data": {
      "text/plain": [
       "[2, 3, 4, 5, 6, 7, [3, 78, 54, 77], 3, 78, 54, 77]"
      ]
     },
     "execution_count": 10,
     "metadata": {},
     "output_type": "execute_result"
    }
   ],
   "source": [
    "a"
   ]
  },
  {
   "cell_type": "code",
   "execution_count": 11,
   "id": "fce35dc3",
   "metadata": {},
   "outputs": [],
   "source": [
    "c=[45,24,254,567,567]"
   ]
  },
  {
   "cell_type": "code",
   "execution_count": 12,
   "id": "cee259a6",
   "metadata": {},
   "outputs": [
    {
     "data": {
      "text/plain": [
       "[2, 3, 4, 5, 6, 7, [3, 78, 54, 77], 3, 78, 54, 77, [45, 24, 254, 567, 567]]"
      ]
     },
     "execution_count": 12,
     "metadata": {},
     "output_type": "execute_result"
    }
   ],
   "source": [
    "a.append(c)\n",
    "a"
   ]
  },
  {
   "cell_type": "code",
   "execution_count": 13,
   "id": "2528b2db",
   "metadata": {},
   "outputs": [
    {
     "data": {
      "text/plain": [
       "12"
      ]
     },
     "execution_count": 13,
     "metadata": {},
     "output_type": "execute_result"
    }
   ],
   "source": [
    "len(a)"
   ]
  },
  {
   "cell_type": "code",
   "execution_count": 17,
   "id": "278d21be",
   "metadata": {},
   "outputs": [
    {
     "name": "stdout",
     "output_type": "stream",
     "text": [
      "2\n",
      "3\n",
      "4\n",
      "5\n",
      "6\n",
      "7\n",
      "[3, 78, 54, 77]\n",
      "3\n",
      "78\n",
      "54\n",
      "77\n",
      "[45, 24, 254, 567, 567]\n"
     ]
    }
   ],
   "source": [
    "for i in range(0,len(a)):\n",
    "    print(a[i])\n",
    "    "
   ]
  },
  {
   "cell_type": "code",
   "execution_count": 15,
   "id": "79b87b92",
   "metadata": {},
   "outputs": [
    {
     "data": {
      "text/plain": [
       "[2,\n",
       " 3,\n",
       " 4,\n",
       " 5,\n",
       " 6,\n",
       " 7,\n",
       " [3, 78, 54, 77],\n",
       " 3,\n",
       " 78,\n",
       " 54,\n",
       " 77,\n",
       " [45, 24, 254, 567, 567],\n",
       " 45,\n",
       " 56,\n",
       " 78,\n",
       " 35,\n",
       " 67]"
      ]
     },
     "execution_count": 15,
     "metadata": {},
     "output_type": "execute_result"
    }
   ],
   "source": [
    "a"
   ]
  },
  {
   "cell_type": "code",
   "execution_count": null,
   "id": "5b4e2ab3",
   "metadata": {},
   "outputs": [],
   "source": []
  },
  {
   "cell_type": "code",
   "execution_count": 19,
   "id": "73f503e9",
   "metadata": {},
   "outputs": [
    {
     "name": "stdout",
     "output_type": "stream",
     "text": [
      "Enter length of index :4\n",
      "Enter value for list5\n",
      "Enter value for list6\n",
      "Enter value for list7\n",
      "Enter value for list8\n",
      "length of index2\n",
      "enter new value9\n",
      "[5, 6, 9, 8]\n"
     ]
    }
   ],
   "source": [
    "s=[]\n",
    "n=int(input(\"Enter length of index :\"))\n",
    "for i in range(0,n):\n",
    "    v=int(input(\"Enter value for list\"))\n",
    "    s.append(v)  #full list\n",
    "    \n",
    "n1=int(input(\"length of index\"))\n",
    "v1=int(input(\"enter new value\"))\n",
    "s[n1]=v1\n",
    "\n",
    "print(s)"
   ]
  },
  {
   "cell_type": "code",
   "execution_count": 18,
   "id": "e785d45f",
   "metadata": {},
   "outputs": [
    {
     "data": {
      "text/plain": [
       "[2,\n",
       " 3,\n",
       " 4,\n",
       " 5,\n",
       " 6,\n",
       " 7,\n",
       " [3, 78, 54, 77],\n",
       " 3,\n",
       " 78,\n",
       " 54,\n",
       " 77,\n",
       " [45, 24, 254, 567, 567],\n",
       " 45,\n",
       " 56,\n",
       " 78,\n",
       " 35,\n",
       " 67,\n",
       " 34,\n",
       " 45,\n",
       " 56,\n",
       " 78,\n",
       " 46,\n",
       " 35,\n",
       " 35,\n",
       " 1,\n",
       " 2,\n",
       " 3,\n",
       " 4,\n",
       " 5]"
      ]
     },
     "execution_count": 18,
     "metadata": {},
     "output_type": "execute_result"
    }
   ],
   "source": [
    "a"
   ]
  },
  {
   "cell_type": "code",
   "execution_count": 20,
   "id": "be45be5c",
   "metadata": {},
   "outputs": [
    {
     "name": "stdout",
     "output_type": "stream",
     "text": [
      "[4, 6, [3, 78, 54, 77], 78]\n"
     ]
    }
   ],
   "source": [
    "print(a[2:10:2])"
   ]
  },
  {
   "cell_type": "code",
   "execution_count": 22,
   "id": "eadda0d2",
   "metadata": {},
   "outputs": [
    {
     "data": {
      "text/plain": [
       "[46, 35, 35, 1, 2, 3]"
      ]
     },
     "execution_count": 22,
     "metadata": {},
     "output_type": "execute_result"
    }
   ],
   "source": [
    "a[-8:-2]"
   ]
  },
  {
   "cell_type": "code",
   "execution_count": 23,
   "id": "ded0c68f",
   "metadata": {},
   "outputs": [
    {
     "data": {
      "text/plain": [
       "[]"
      ]
     },
     "execution_count": 23,
     "metadata": {},
     "output_type": "execute_result"
    }
   ],
   "source": [
    "a[-2:-10]"
   ]
  },
  {
   "cell_type": "code",
   "execution_count": 24,
   "id": "8c37e9e1",
   "metadata": {},
   "outputs": [
    {
     "data": {
      "text/plain": [
       "28"
      ]
     },
     "execution_count": 24,
     "metadata": {},
     "output_type": "execute_result"
    }
   ],
   "source": [
    "sum(s)"
   ]
  },
  {
   "cell_type": "code",
   "execution_count": 25,
   "id": "6d352797",
   "metadata": {},
   "outputs": [
    {
     "name": "stdout",
     "output_type": "stream",
     "text": [
      "[2, 3, 4, 5, 6, 7, [3, 78, 54, 77], 3, 78, 54, 77, [45, 24, 254, 567, 567], 45, 56, 78, 35, 67, 34, 45, 56, 78, 46, 35, 35, 1, 2, 3, 4, 5, 5, 6, 9, 8]\n"
     ]
    }
   ],
   "source": [
    "print(a+s)"
   ]
  },
  {
   "cell_type": "code",
   "execution_count": 26,
   "id": "bfa2cfba",
   "metadata": {},
   "outputs": [
    {
     "name": "stdout",
     "output_type": "stream",
     "text": [
      "3\n"
     ]
    }
   ],
   "source": [
    "print(a.count(3))"
   ]
  },
  {
   "cell_type": "code",
   "execution_count": 32,
   "id": "f04c1e5c",
   "metadata": {},
   "outputs": [
    {
     "name": "stdout",
     "output_type": "stream",
     "text": [
      "12\n"
     ]
    }
   ],
   "source": [
    " #45 is value and 5 is index left in list\n",
    "print(a.index(45,12) )"
   ]
  },
  {
   "cell_type": "code",
   "execution_count": 33,
   "id": "7d589021",
   "metadata": {},
   "outputs": [],
   "source": [
    "del a[6]"
   ]
  },
  {
   "cell_type": "code",
   "execution_count": 34,
   "id": "be946fb5",
   "metadata": {},
   "outputs": [
    {
     "data": {
      "text/plain": [
       "[2,\n",
       " 3,\n",
       " 4,\n",
       " 5,\n",
       " 6,\n",
       " 7,\n",
       " 3,\n",
       " 78,\n",
       " 54,\n",
       " 77,\n",
       " [45, 24, 254, 567, 567],\n",
       " 45,\n",
       " 56,\n",
       " 78,\n",
       " 35,\n",
       " 67,\n",
       " 34,\n",
       " 45,\n",
       " 56,\n",
       " 78,\n",
       " 46,\n",
       " 35,\n",
       " 35,\n",
       " 1,\n",
       " 2,\n",
       " 3,\n",
       " 4,\n",
       " 5]"
      ]
     },
     "execution_count": 34,
     "metadata": {},
     "output_type": "execute_result"
    }
   ],
   "source": [
    "a"
   ]
  },
  {
   "cell_type": "code",
   "execution_count": 35,
   "id": "9fbd23f1",
   "metadata": {},
   "outputs": [
    {
     "name": "stdout",
     "output_type": "stream",
     "text": [
      "[2, 3, 4, 5, 6, 7, 3, 78, 54, 77, [45, 24, 254, 567, 567], 45, 56, 78, 35, 67, 34, 45, 56, 78, 46, 35, 35, 1, 2, 3, 4, 5]\n"
     ]
    }
   ],
   "source": [
    "print(a)"
   ]
  },
  {
   "cell_type": "code",
   "execution_count": 36,
   "id": "958bc520",
   "metadata": {},
   "outputs": [],
   "source": [
    "del a[20:]"
   ]
  },
  {
   "cell_type": "code",
   "execution_count": 37,
   "id": "8cefb6d4",
   "metadata": {},
   "outputs": [
    {
     "name": "stdout",
     "output_type": "stream",
     "text": [
      "[2, 3, 4, 5, 6, 7, 3, 78, 54, 77, [45, 24, 254, 567, 567], 45, 56, 78, 35, 67, 34, 45, 56, 78]\n"
     ]
    }
   ],
   "source": [
    "print(a)"
   ]
  },
  {
   "cell_type": "code",
   "execution_count": 38,
   "id": "1cc401ac",
   "metadata": {},
   "outputs": [],
   "source": [
    "a.remove(34)"
   ]
  },
  {
   "cell_type": "code",
   "execution_count": 39,
   "id": "0b3733f0",
   "metadata": {},
   "outputs": [
    {
     "name": "stdout",
     "output_type": "stream",
     "text": [
      "[2, 3, 4, 5, 6, 7, 3, 78, 54, 77, [45, 24, 254, 567, 567], 45, 56, 78, 35, 67, 45, 56, 78]\n"
     ]
    }
   ],
   "source": [
    "print(a)"
   ]
  },
  {
   "cell_type": "code",
   "execution_count": null,
   "id": "445a6594",
   "metadata": {},
   "outputs": [],
   "source": []
  }
 ],
 "metadata": {
  "kernelspec": {
   "display_name": "Python 3 (ipykernel)",
   "language": "python",
   "name": "python3"
  },
  "language_info": {
   "codemirror_mode": {
    "name": "ipython",
    "version": 3
   },
   "file_extension": ".py",
   "mimetype": "text/x-python",
   "name": "python",
   "nbconvert_exporter": "python",
   "pygments_lexer": "ipython3",
   "version": "3.9.13"
  }
 },
 "nbformat": 4,
 "nbformat_minor": 5
}
