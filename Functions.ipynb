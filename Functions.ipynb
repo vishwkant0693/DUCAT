{
 "cells": [
  {
   "cell_type": "code",
   "execution_count": 1,
   "id": "69001381",
   "metadata": {},
   "outputs": [
    {
     "name": "stdout",
     "output_type": "stream",
     "text": [
      "Welcome\n",
      "Hello\n",
      "Vishwkant\n",
      "Btech\n",
      "Python Full Stack\n",
      "Ducat Pitampura\n"
     ]
    }
   ],
   "source": [
    "print(\"Welcome\")\n",
    "def my_data(v):\n",
    "    print(\"Vishwkant\")\n",
    "    print(\"Btech\")\n",
    "    print(\"Python Full Stack\")\n",
    "    print(v)\n",
    "print(\"Hello\")\n",
    "k=\"Ducat Pitampura\"\n",
    "my_data(k)\n"
   ]
  },
  {
   "cell_type": "code",
   "execution_count": 2,
   "id": "a3a70e61",
   "metadata": {},
   "outputs": [
    {
     "name": "stdout",
     "output_type": "stream",
     "text": [
      "Welcome\n",
      "Hello\n",
      "Vishwkant\n",
      "Btech\n",
      "Python Full Stack\n"
     ]
    }
   ],
   "source": [
    "print(\"Welcome\")\n",
    "def my_data():\n",
    "    print(\"Vishwkant\")\n",
    "    print(\"Btech\")\n",
    "    print(\"Python Full Stack\")\n",
    "print(\"Hello\")\n",
    "k=\"Ducat Pitampura\"\n",
    "my_data()"
   ]
  },
  {
   "cell_type": "code",
   "execution_count": 3,
   "id": "213b7779",
   "metadata": {},
   "outputs": [
    {
     "name": "stdout",
     "output_type": "stream",
     "text": [
      "Welcome\n",
      "Hello\n",
      "Vishwkant\n",
      "Btech\n",
      "Python Full Stack\n",
      "Ducat Pitampura 100 22\n"
     ]
    }
   ],
   "source": [
    "print(\"Welcome\")\n",
    "def my_data(v,w,x):\n",
    "    print(\"Vishwkant\")\n",
    "    print(\"Btech\")\n",
    "    print(\"Python Full Stack\")\n",
    "    print(v,w,x)\n",
    "print(\"Hello\")\n",
    "k=\"Ducat Pitampura\"\n",
    "l=100\n",
    "m=22\n",
    "my_data(k,l,m)"
   ]
  },
  {
   "cell_type": "code",
   "execution_count": 4,
   "id": "502e661d",
   "metadata": {},
   "outputs": [
    {
     "name": "stdout",
     "output_type": "stream",
     "text": [
      "Welcome\n",
      "Hello\n",
      "Vishwkant\n",
      "Btech\n",
      "Python Full Stack\n",
      "('Ducat Pitampura', 100, 22) <class 'tuple'>\n"
     ]
    }
   ],
   "source": [
    "print(\"Welcome\")\n",
    "def my_data(*v):\n",
    "    print(\"Vishwkant\")\n",
    "    print(\"Btech\")\n",
    "    print(\"Python Full Stack\")\n",
    "    print(v,type(v))\n",
    "print(\"Hello\")\n",
    "k=\"Ducat Pitampura\"\n",
    "l=100\n",
    "m=22\n",
    "my_data(k,l,m)"
   ]
  },
  {
   "cell_type": "code",
   "execution_count": 5,
   "id": "0b2a0d18",
   "metadata": {},
   "outputs": [
    {
     "name": "stdout",
     "output_type": "stream",
     "text": [
      "Welcome\n",
      "Hello\n",
      "Vishwkant\n",
      "Btech\n",
      "Python Full Stack\n",
      "Ducat Pitampura 100 22 <class 'tuple'>\n"
     ]
    }
   ],
   "source": [
    "print(\"Welcome\")\n",
    "def my_data(*v):\n",
    "    print(\"Vishwkant\")\n",
    "    print(\"Btech\")\n",
    "    print(\"Python Full Stack\")\n",
    "    print(v[0],v[1],v[2],type(v))\n",
    "print(\"Hello\")\n",
    "k=\"Ducat Pitampura\"\n",
    "l=100\n",
    "m=22\n",
    "my_data(k,l,m)"
   ]
  },
  {
   "cell_type": "code",
   "execution_count": 6,
   "id": "75861f8a",
   "metadata": {},
   "outputs": [
    {
     "name": "stdout",
     "output_type": "stream",
     "text": [
      "Welcome\n",
      "Hello\n",
      "Vishwkant\n",
      "Btech\n",
      "Python Full Stack\n",
      "['Ducat Pitampura', 100, 22] <class 'list'>\n"
     ]
    }
   ],
   "source": [
    "print(\"Welcome\")\n",
    "def my_data(v,w,x):\n",
    "    print(\"Vishwkant\")\n",
    "    print(\"Btech\")\n",
    "    print(\"Python Full Stack\")\n",
    "    z=[v,w,x]\n",
    "    print(z,type(z))\n",
    "print(\"Hello\")\n",
    "k=\"Ducat Pitampura\"\n",
    "l=100\n",
    "m=22\n",
    "my_data(k,l,m)"
   ]
  },
  {
   "cell_type": "code",
   "execution_count": 7,
   "id": "7e932a71",
   "metadata": {},
   "outputs": [
    {
     "name": "stdout",
     "output_type": "stream",
     "text": [
      "Welcome\n",
      "Hello\n",
      "Vishwkant\n",
      "Btech\n",
      "Python Full Stack\n",
      "['Ducat Pitampura', 100, 22] <class 'list'>\n"
     ]
    }
   ],
   "source": [
    "print(\"Welcome\")\n",
    "def my_data(*v):\n",
    "    print(\"Vishwkant\")\n",
    "    print(\"Btech\")\n",
    "    print(\"Python Full Stack\")\n",
    "    z=[v[0],v[1],v[2]]\n",
    "    print(z,type(z))\n",
    "print(\"Hello\")\n",
    "k=\"Ducat Pitampura\"\n",
    "l=100\n",
    "m=22\n",
    "my_data(k,l,m)"
   ]
  },
  {
   "cell_type": "code",
   "execution_count": null,
   "id": "c1dc9300",
   "metadata": {},
   "outputs": [],
   "source": []
  },
  {
   "cell_type": "code",
   "execution_count": 8,
   "id": "ca85d093",
   "metadata": {},
   "outputs": [
    {
     "name": "stdout",
     "output_type": "stream",
     "text": [
      "Welcome\n",
      "Enter amount for ankit : 400\n",
      "Enter amount for aman : 500\n",
      "Remaining amount : 9100\n",
      "I'm Ankit\n",
      "My Amount is : 400\n",
      "I'm Aman\n",
      "My Amount is : 500\n",
      "Earned Amount from ankit : 800\n",
      "Earned Amount from aman : 1500\n",
      "Hello!\n",
      "Total Amount : 11400\n"
     ]
    }
   ],
   "source": [
    "print(\"Welcome\")\n",
    "amt = 10000\n",
    "def ankit(x):\n",
    "    print(\"I'm Ankit\")\n",
    "    print(\"My Amount is :\",x)\n",
    "    gx=x*2\n",
    "    return gx\n",
    "def aman(y):\n",
    "    print(\"I'm Aman\")\n",
    "    print(\"My Amount is :\",y)\n",
    "    gy=y*3\n",
    "    return gy\n",
    "an = int(input(\"Enter amount for ankit : \"))\n",
    "am = int(input(\"Enter amount for aman : \"))\n",
    "rem_amt = amt-(an+am)\n",
    "print(\"Remaining amount :\",rem_amt)\n",
    "ankit_amt = ankit(an)\n",
    "aman_amt = aman(am)\n",
    "total_amt = rem_amt+ankit_amt+aman_amt\n",
    "print(\"Earned Amount from ankit :\",ankit_amt)\n",
    "print(\"Earned Amount from aman :\",aman_amt)\n",
    "print(\"Hello!\")\n",
    "print(\"Total Amount :\",total_amt)"
   ]
  },
  {
   "cell_type": "code",
   "execution_count": null,
   "id": "94630cad",
   "metadata": {},
   "outputs": [],
   "source": []
  },
  {
   "cell_type": "code",
   "execution_count": 30,
   "id": "712675d6",
   "metadata": {},
   "outputs": [
    {
     "name": "stdout",
     "output_type": "stream",
     "text": [
      "Enter a value : 45\n",
      "Enter an operator : =\n",
      "Enter a value : 45\n",
      "\n",
      "**Error Not Found**\n"
     ]
    }
   ],
   "source": [
    "x= int(input(\"Enter a value : \"))\n",
    "o= input(\"Enter an operator : \")\n",
    "y= int(input(\"Enter a value : \"))\n",
    "\n",
    "def cal(x,y):\n",
    "    if o==\"+\":\n",
    "        print(x,\"+\",y,\"=\",x+y)\n",
    "    elif o==\"-\":\n",
    "        print(x,\"-\",y,\"=\",x-y)\n",
    "    elif o==\"*\":\n",
    "        print(x,\"*\",y,\"=\",x*y)\n",
    "    elif o==\"/\":\n",
    "        print(x,\"/\",y,\"=\",x/y)\n",
    "    elif o==\"**\":\n",
    "        print(x,\"**\",y,\"=\",x**y)\n",
    "    else:\n",
    "        print(\"\\n**Error Not Found**\")\n",
    "cal(x,y)"
   ]
  },
  {
   "cell_type": "code",
   "execution_count": null,
   "id": "8ca4fb3d",
   "metadata": {},
   "outputs": [],
   "source": []
  },
  {
   "cell_type": "code",
   "execution_count": 9,
   "id": "c1aac90b",
   "metadata": {},
   "outputs": [
    {
     "name": "stdout",
     "output_type": "stream",
     "text": [
      "Welcome\n",
      "Hello !\n",
      "I'm outer 1\n",
      "value of o : 20\n",
      "I'm outer 2\n",
      "Bye\n",
      "Thanks\n"
     ]
    }
   ],
   "source": [
    "print(\"Welcome\")\n",
    "def outer():\n",
    "    print(\"I'm outer 1\")\n",
    "    o=20\n",
    "    print(\"value of o :\",o)\n",
    "    print(\"I'm outer 2\")\n",
    "print(\"Hello !\")\n",
    "outer()\n",
    "print(\"Bye\")\n",
    "print(\"Thanks\")"
   ]
  },
  {
   "cell_type": "code",
   "execution_count": 10,
   "id": "4402ce17",
   "metadata": {},
   "outputs": [
    {
     "name": "stdout",
     "output_type": "stream",
     "text": [
      "Welcome\n",
      "value of o : 10\n",
      "Hello !\n",
      "I'm outer 1\n",
      "value of o : 20\n",
      "I'm outer 2\n",
      "value of o 10\n",
      "Bye\n",
      "Thanks\n"
     ]
    }
   ],
   "source": [
    "print(\"Welcome\")\n",
    "o=10\n",
    "print(\"value of o :\",o)\n",
    "def outer():\n",
    "    print(\"I'm outer 1\")\n",
    "    o=20\n",
    "    print(\"value of o :\",o)\n",
    "    print(\"I'm outer 2\")\n",
    "print(\"Hello !\")\n",
    "outer()\n",
    "print(\"value of o\",o)\n",
    "print(\"Bye\")\n",
    "print(\"Thanks\")"
   ]
  },
  {
   "cell_type": "code",
   "execution_count": 11,
   "id": "841c3626",
   "metadata": {},
   "outputs": [
    {
     "name": "stdout",
     "output_type": "stream",
     "text": [
      "Welcome\n",
      "value of o : 10\n",
      "Hello !\n",
      "I'm outer 1\n",
      "value of o : 20\n",
      "I'm outer 2\n",
      "value of o 20\n",
      "Bye\n",
      "Thanks\n"
     ]
    }
   ],
   "source": [
    "print(\"Welcome\")\n",
    "o=10\n",
    "print(\"value of o :\",o)\n",
    "def outer():\n",
    "    print(\"I'm outer 1\")\n",
    "    global o\n",
    "    o=20\n",
    "    print(\"value of o :\",o)\n",
    "    print(\"I'm outer 2\")\n",
    "print(\"Hello !\")\n",
    "outer()\n",
    "print(\"value of o\",o)\n",
    "print(\"Bye\")\n",
    "print(\"Thanks\")"
   ]
  },
  {
   "cell_type": "code",
   "execution_count": 16,
   "id": "e9bf4af0",
   "metadata": {},
   "outputs": [
    {
     "name": "stdout",
     "output_type": "stream",
     "text": [
      "Welcome\n",
      "value of o : 10\n",
      "Hello !\n",
      "\n",
      "I'm outer 1\n",
      "value of o : 20\n",
      "\n",
      "I'm inner 1\n",
      "value of o 20\n",
      "value of i 50\n",
      "I'm inner 2\n",
      "\n",
      "I'm outer 2\n",
      "\n",
      "value of o: 10\n",
      "\n",
      "Bye\n",
      "Thanks\n"
     ]
    }
   ],
   "source": [
    "print(\"Welcome\")\n",
    "o=10\n",
    "print(\"value of o :\",o)\n",
    "def outer():\n",
    "    print(\"\\nI'm outer 1\")\n",
    "    o=20\n",
    "    print(\"value of o :\",o)\n",
    "    def inner():\n",
    "        print(\"\\nI'm inner 1\")\n",
    "        i=50\n",
    "        print(\"value of o\",o)\n",
    "        print(\"value of i\",i)\n",
    "        print(\"I'm inner 2\\n\")\n",
    "    \n",
    "    inner()            \n",
    "    print(\"I'm outer 2\\n\")\n",
    "print(\"Hello !\")\n",
    "outer()\n",
    "print(\"value of o:\",o)\n",
    "print(\"\\nBye\")\n",
    "print(\"Thanks\")"
   ]
  },
  {
   "cell_type": "code",
   "execution_count": 1,
   "id": "28e9f436",
   "metadata": {},
   "outputs": [],
   "source": [
    "def m(e):\n",
    "    return e*5"
   ]
  },
  {
   "cell_type": "code",
   "execution_count": 2,
   "id": "764b4508",
   "metadata": {},
   "outputs": [
    {
     "name": "stdout",
     "output_type": "stream",
     "text": [
      "4\n"
     ]
    }
   ],
   "source": [
    "l=[12,23,34,45,56,76,54,32]\n",
    "n=56\n",
    "for i in range(len(l)):\n",
    "    if l[i]==n:\n",
    "        print(i)\n",
    "        break"
   ]
  },
  {
   "cell_type": "code",
   "execution_count": 4,
   "id": "e0269dea",
   "metadata": {},
   "outputs": [
    {
     "name": "stdout",
     "output_type": "stream",
     "text": [
      "332\n"
     ]
    }
   ],
   "source": [
    "l=[12,23,34,45,56,76,54,32]\n",
    "n=0\n",
    "for i in l:\n",
    "    n+=i\n",
    "print(n)"
   ]
  },
  {
   "cell_type": "code",
   "execution_count": 5,
   "id": "289ebf37",
   "metadata": {},
   "outputs": [
    {
     "data": {
      "text/plain": [
       "332"
      ]
     },
     "execution_count": 5,
     "metadata": {},
     "output_type": "execute_result"
    }
   ],
   "source": [
    "sum(l)"
   ]
  },
  {
   "cell_type": "code",
   "execution_count": 6,
   "id": "435a8d99",
   "metadata": {},
   "outputs": [
    {
     "name": "stdout",
     "output_type": "stream",
     "text": [
      "60\n",
      "115\n",
      "170\n",
      "225\n",
      "280\n",
      "380\n",
      "270\n",
      "160\n"
     ]
    }
   ],
   "source": [
    "for i in l:\n",
    "    print(m(i))"
   ]
  },
  {
   "cell_type": "code",
   "execution_count": 10,
   "id": "33eefa0c",
   "metadata": {},
   "outputs": [],
   "source": [
    "m1 = lambda e1:e1*8"
   ]
  },
  {
   "cell_type": "code",
   "execution_count": 11,
   "id": "9d40a650",
   "metadata": {},
   "outputs": [
    {
     "name": "stdout",
     "output_type": "stream",
     "text": [
      "96\n",
      "184\n",
      "272\n",
      "360\n",
      "448\n",
      "608\n",
      "432\n",
      "256\n"
     ]
    }
   ],
   "source": [
    "for i in l:\n",
    "    print(m1(i))"
   ]
  },
  {
   "cell_type": "code",
   "execution_count": 12,
   "id": "73b20271",
   "metadata": {},
   "outputs": [
    {
     "name": "stdout",
     "output_type": "stream",
     "text": [
      "96\n",
      "184\n",
      "272\n",
      "360\n",
      "448\n",
      "608\n",
      "432\n",
      "256\n"
     ]
    }
   ],
   "source": [
    "for i in l:\n",
    "    print(i*8)"
   ]
  },
  {
   "cell_type": "code",
   "execution_count": 13,
   "id": "5b250006",
   "metadata": {},
   "outputs": [
    {
     "data": {
      "text/plain": [
       "<map at 0x265e4126550>"
      ]
     },
     "execution_count": 13,
     "metadata": {},
     "output_type": "execute_result"
    }
   ],
   "source": [
    "map(m1,l)"
   ]
  },
  {
   "cell_type": "code",
   "execution_count": 15,
   "id": "43813886",
   "metadata": {},
   "outputs": [
    {
     "data": {
      "text/plain": [
       "[60, 115, 170, 225, 280, 380, 270, 160]"
      ]
     },
     "execution_count": 15,
     "metadata": {},
     "output_type": "execute_result"
    }
   ],
   "source": [
    "list(map(m,l))"
   ]
  },
  {
   "cell_type": "code",
   "execution_count": 16,
   "id": "55d58779",
   "metadata": {},
   "outputs": [
    {
     "data": {
      "text/plain": [
       "[96, 184, 272, 360, 448, 608, 432, 256]"
      ]
     },
     "execution_count": 16,
     "metadata": {},
     "output_type": "execute_result"
    }
   ],
   "source": [
    "list(map(m1,l))"
   ]
  },
  {
   "cell_type": "code",
   "execution_count": 17,
   "id": "a2783990",
   "metadata": {},
   "outputs": [
    {
     "data": {
      "text/plain": [
       "[44, 66, 88, 110, 132]"
      ]
     },
     "execution_count": 17,
     "metadata": {},
     "output_type": "execute_result"
    }
   ],
   "source": [
    "list(map(lambda d:d*2,[22,33,44,55,66]))"
   ]
  },
  {
   "cell_type": "code",
   "execution_count": null,
   "id": "f4742c8a",
   "metadata": {},
   "outputs": [],
   "source": []
  },
  {
   "cell_type": "code",
   "execution_count": null,
   "id": "8d5ae646",
   "metadata": {},
   "outputs": [],
   "source": []
  },
  {
   "cell_type": "code",
   "execution_count": 1,
   "id": "5f1b2055",
   "metadata": {},
   "outputs": [],
   "source": [
    "import shift"
   ]
  },
  {
   "cell_type": "code",
   "execution_count": 2,
   "id": "83b68544",
   "metadata": {},
   "outputs": [
    {
     "name": "stdout",
     "output_type": "stream",
     "text": [
      "I'm a Hello Function in python\n"
     ]
    },
    {
     "data": {
      "text/plain": [
       "25"
      ]
     },
     "execution_count": 2,
     "metadata": {},
     "output_type": "execute_result"
    }
   ],
   "source": [
    "shift.hello(5)"
   ]
  },
  {
   "cell_type": "code",
   "execution_count": 1,
   "id": "33d43c2f",
   "metadata": {},
   "outputs": [],
   "source": [
    "from vk_lib import intro"
   ]
  },
  {
   "cell_type": "code",
   "execution_count": 3,
   "id": "03284c7e",
   "metadata": {},
   "outputs": [
    {
     "name": "stdout",
     "output_type": "stream",
     "text": [
      "Name = Vishwkant\n",
      "course = Python Full Stack\n",
      "Timing = 10:00 AM\n"
     ]
    }
   ],
   "source": [
    "intro.vk(4)"
   ]
  },
  {
   "cell_type": "code",
   "execution_count": null,
   "id": "7502127d",
   "metadata": {},
   "outputs": [],
   "source": []
  },
  {
   "cell_type": "code",
   "execution_count": null,
   "id": "6053fadf",
   "metadata": {},
   "outputs": [],
   "source": []
  },
  {
   "cell_type": "markdown",
   "id": "8407218c",
   "metadata": {},
   "source": [
    "# OOP's (Object Oriented Programming)"
   ]
  },
  {
   "cell_type": "code",
   "execution_count": 3,
   "id": "69edb6b2",
   "metadata": {},
   "outputs": [],
   "source": [
    "#class\n",
    "#object"
   ]
  },
  {
   "cell_type": "code",
   "execution_count": 9,
   "id": "dc261b45",
   "metadata": {},
   "outputs": [],
   "source": [
    "class human:\n",
    "    def eyes(x):\n",
    "        print(\"I'm eyes Function :\",x)"
   ]
  },
  {
   "cell_type": "code",
   "execution_count": 10,
   "id": "e7221325",
   "metadata": {},
   "outputs": [
    {
     "data": {
      "text/plain": [
       "<__main__.human at 0x2762cbb00d0>"
      ]
     },
     "execution_count": 10,
     "metadata": {},
     "output_type": "execute_result"
    }
   ],
   "source": [
    "human()"
   ]
  },
  {
   "cell_type": "code",
   "execution_count": 11,
   "id": "57c3b454",
   "metadata": {},
   "outputs": [],
   "source": [
    "a=human()"
   ]
  },
  {
   "cell_type": "code",
   "execution_count": 12,
   "id": "49eccbeb",
   "metadata": {},
   "outputs": [
    {
     "data": {
      "text/plain": [
       "<__main__.human at 0x2762cbbaa00>"
      ]
     },
     "execution_count": 12,
     "metadata": {},
     "output_type": "execute_result"
    }
   ],
   "source": [
    "a"
   ]
  },
  {
   "cell_type": "code",
   "execution_count": 13,
   "id": "5fe4569b",
   "metadata": {},
   "outputs": [
    {
     "name": "stdout",
     "output_type": "stream",
     "text": [
      "I'm eyes Function : <__main__.human object at 0x000002762CBBAA00>\n"
     ]
    }
   ],
   "source": [
    "a.eyes() #(by default)"
   ]
  },
  {
   "cell_type": "code",
   "execution_count": 14,
   "id": "d807e747",
   "metadata": {},
   "outputs": [
    {
     "data": {
      "text/plain": [
       "<__main__.human at 0x2762cbbadc0>"
      ]
     },
     "execution_count": 14,
     "metadata": {},
     "output_type": "execute_result"
    }
   ],
   "source": [
    "b=human()\n",
    "b"
   ]
  },
  {
   "cell_type": "code",
   "execution_count": 15,
   "id": "4bdbb53f",
   "metadata": {},
   "outputs": [
    {
     "name": "stdout",
     "output_type": "stream",
     "text": [
      "I'm eyes Function : <__main__.human object at 0x000002762CBBADC0>\n"
     ]
    }
   ],
   "source": [
    "b.eyes()"
   ]
  },
  {
   "cell_type": "code",
   "execution_count": 39,
   "id": "1f59c51a",
   "metadata": {},
   "outputs": [],
   "source": [
    "class human:\n",
    "    def eyes(x):\n",
    "        print(\"I'm eyes Function :\",x)\n",
    "    \n",
    "    def ears(y):\n",
    "        print(\"I'm ears Function :\",y)"
   ]
  },
  {
   "cell_type": "code",
   "execution_count": 40,
   "id": "8d528b4f",
   "metadata": {},
   "outputs": [],
   "source": [
    "a=human()"
   ]
  },
  {
   "cell_type": "code",
   "execution_count": 41,
   "id": "ea778c0c",
   "metadata": {},
   "outputs": [
    {
     "data": {
      "text/plain": [
       "<__main__.human at 0x22736816c10>"
      ]
     },
     "execution_count": 41,
     "metadata": {},
     "output_type": "execute_result"
    }
   ],
   "source": [
    "a"
   ]
  },
  {
   "cell_type": "code",
   "execution_count": 42,
   "id": "4ed11958",
   "metadata": {},
   "outputs": [
    {
     "name": "stdout",
     "output_type": "stream",
     "text": [
      "I'm eyes Function : <__main__.human object at 0x0000022736816C10>\n"
     ]
    }
   ],
   "source": [
    "a.eyes()"
   ]
  },
  {
   "cell_type": "code",
   "execution_count": 43,
   "id": "7db18c8b",
   "metadata": {},
   "outputs": [
    {
     "name": "stdout",
     "output_type": "stream",
     "text": [
      "I'm ears Function : <__main__.human object at 0x0000022736816C10>\n"
     ]
    }
   ],
   "source": [
    "a.ears()"
   ]
  },
  {
   "cell_type": "code",
   "execution_count": 7,
   "id": "0ff7442b",
   "metadata": {},
   "outputs": [],
   "source": [
    "b=human()"
   ]
  },
  {
   "cell_type": "code",
   "execution_count": 8,
   "id": "23c65b14",
   "metadata": {},
   "outputs": [
    {
     "data": {
      "text/plain": [
       "<__main__.human at 0x2273682aac0>"
      ]
     },
     "execution_count": 8,
     "metadata": {},
     "output_type": "execute_result"
    }
   ],
   "source": [
    "b"
   ]
  },
  {
   "cell_type": "code",
   "execution_count": 9,
   "id": "4bf725f4",
   "metadata": {},
   "outputs": [
    {
     "name": "stdout",
     "output_type": "stream",
     "text": [
      "I'm ears Function <__main__.human object at 0x000002273682AAC0>\n"
     ]
    }
   ],
   "source": [
    "b.ears()"
   ]
  },
  {
   "cell_type": "code",
   "execution_count": 10,
   "id": "e4d682a4",
   "metadata": {},
   "outputs": [
    {
     "name": "stdout",
     "output_type": "stream",
     "text": [
      "I'm eyes Function : <__main__.human object at 0x000002273682AAC0>\n"
     ]
    }
   ],
   "source": [
    "b.eyes()"
   ]
  },
  {
   "cell_type": "code",
   "execution_count": 20,
   "id": "4e2215e8",
   "metadata": {},
   "outputs": [],
   "source": [
    "class human:\n",
    "    def eyes(self,x):\n",
    "        y=x\n",
    "        print(\"I'm eyes Function :\",x)\n",
    "    \n",
    "    def ears(self):\n",
    "        print(\"I'm ears Function :\",y)"
   ]
  },
  {
   "cell_type": "code",
   "execution_count": 21,
   "id": "4f453c25",
   "metadata": {},
   "outputs": [],
   "source": [
    "a=human()"
   ]
  },
  {
   "cell_type": "code",
   "execution_count": 22,
   "id": "87931e35",
   "metadata": {},
   "outputs": [
    {
     "data": {
      "text/plain": [
       "<__main__.human at 0x22736816a90>"
      ]
     },
     "execution_count": 22,
     "metadata": {},
     "output_type": "execute_result"
    }
   ],
   "source": [
    "a"
   ]
  },
  {
   "cell_type": "code",
   "execution_count": 23,
   "id": "ccfac073",
   "metadata": {},
   "outputs": [
    {
     "name": "stdout",
     "output_type": "stream",
     "text": [
      "I'm eyes Function : 6\n"
     ]
    }
   ],
   "source": [
    "a.eyes(6)"
   ]
  },
  {
   "cell_type": "code",
   "execution_count": 24,
   "id": "44934302",
   "metadata": {},
   "outputs": [
    {
     "ename": "NameError",
     "evalue": "name 'y' is not defined",
     "output_type": "error",
     "traceback": [
      "\u001b[1;31m---------------------------------------------------------------------------\u001b[0m",
      "\u001b[1;31mNameError\u001b[0m                                 Traceback (most recent call last)",
      "\u001b[1;32m~\\AppData\\Local\\Temp\\ipykernel_8596\\3871356913.py\u001b[0m in \u001b[0;36m<module>\u001b[1;34m\u001b[0m\n\u001b[1;32m----> 1\u001b[1;33m \u001b[0ma\u001b[0m\u001b[1;33m.\u001b[0m\u001b[0mears\u001b[0m\u001b[1;33m(\u001b[0m\u001b[1;33m)\u001b[0m\u001b[1;33m\u001b[0m\u001b[1;33m\u001b[0m\u001b[0m\n\u001b[0m",
      "\u001b[1;32m~\\AppData\\Local\\Temp\\ipykernel_8596\\3901856544.py\u001b[0m in \u001b[0;36mears\u001b[1;34m(self)\u001b[0m\n\u001b[0;32m      5\u001b[0m \u001b[1;33m\u001b[0m\u001b[0m\n\u001b[0;32m      6\u001b[0m     \u001b[1;32mdef\u001b[0m \u001b[0mears\u001b[0m\u001b[1;33m(\u001b[0m\u001b[0mself\u001b[0m\u001b[1;33m)\u001b[0m\u001b[1;33m:\u001b[0m\u001b[1;33m\u001b[0m\u001b[1;33m\u001b[0m\u001b[0m\n\u001b[1;32m----> 7\u001b[1;33m         \u001b[0mprint\u001b[0m\u001b[1;33m(\u001b[0m\u001b[1;34m\"I'm ears Function :\"\u001b[0m\u001b[1;33m,\u001b[0m\u001b[0my\u001b[0m\u001b[1;33m)\u001b[0m\u001b[1;33m\u001b[0m\u001b[1;33m\u001b[0m\u001b[0m\n\u001b[0m",
      "\u001b[1;31mNameError\u001b[0m: name 'y' is not defined"
     ]
    }
   ],
   "source": [
    "a.ears()"
   ]
  },
  {
   "cell_type": "code",
   "execution_count": 32,
   "id": "b090c084",
   "metadata": {},
   "outputs": [],
   "source": [
    "class human:\n",
    "    def eyes(self,x):\n",
    "        self.y=x\n",
    "        print(\"I'm eyes Function :\",x)\n",
    "    \n",
    "    def ears(self):\n",
    "        y=100\n",
    "        print(\"I'm ears Function :\",self.y,\"y :\",y)"
   ]
  },
  {
   "cell_type": "code",
   "execution_count": 33,
   "id": "a0822d8f",
   "metadata": {},
   "outputs": [],
   "source": [
    "c=human()"
   ]
  },
  {
   "cell_type": "code",
   "execution_count": 36,
   "id": "cb19c796",
   "metadata": {},
   "outputs": [
    {
     "data": {
      "text/plain": [
       "<__main__.human at 0x2273682aee0>"
      ]
     },
     "execution_count": 36,
     "metadata": {},
     "output_type": "execute_result"
    }
   ],
   "source": [
    "c"
   ]
  },
  {
   "cell_type": "code",
   "execution_count": 37,
   "id": "c7068f1d",
   "metadata": {},
   "outputs": [
    {
     "name": "stdout",
     "output_type": "stream",
     "text": [
      "I'm eyes Function : 5\n"
     ]
    }
   ],
   "source": [
    "c.eyes(5)"
   ]
  },
  {
   "cell_type": "code",
   "execution_count": 38,
   "id": "59c72aba",
   "metadata": {},
   "outputs": [
    {
     "name": "stdout",
     "output_type": "stream",
     "text": [
      "I'm ears Function : 5 y : 100\n"
     ]
    }
   ],
   "source": [
    "c.ears()"
   ]
  },
  {
   "cell_type": "code",
   "execution_count": null,
   "id": "6b451d1d",
   "metadata": {},
   "outputs": [],
   "source": []
  },
  {
   "cell_type": "markdown",
   "id": "aef57cf9",
   "metadata": {},
   "source": [
    "# Inheritance"
   ]
  },
  {
   "cell_type": "code",
   "execution_count": null,
   "id": "99dcb44b",
   "metadata": {},
   "outputs": [],
   "source": []
  },
  {
   "cell_type": "code",
   "execution_count": 50,
   "id": "1004b687",
   "metadata": {},
   "outputs": [],
   "source": [
    "class parent:\n",
    "    def __init__(sp):\n",
    "        print(\"I'm self parent Function :\",sp)\n",
    "    def money(sp):\n",
    "        print(\"I'm money Function :\")\n",
    "\n",
    "class child:\n",
    "    def __init__(sc):\n",
    "        print(\"I'm self child Function :\",sc)\n",
    "    def study(sc):\n",
    "        print(\"I'm study Function :\")"
   ]
  },
  {
   "cell_type": "code",
   "execution_count": 51,
   "id": "e60cc821",
   "metadata": {},
   "outputs": [
    {
     "name": "stdout",
     "output_type": "stream",
     "text": [
      "I'm self child Function : <__main__.child object at 0x0000022736927D90>\n"
     ]
    }
   ],
   "source": [
    "c1=child()"
   ]
  },
  {
   "cell_type": "code",
   "execution_count": 52,
   "id": "2cc17cd0",
   "metadata": {},
   "outputs": [
    {
     "name": "stdout",
     "output_type": "stream",
     "text": [
      "I'm study Function :\n"
     ]
    }
   ],
   "source": [
    "c1.study()"
   ]
  },
  {
   "cell_type": "code",
   "execution_count": 53,
   "id": "fe69477a",
   "metadata": {},
   "outputs": [
    {
     "ename": "AttributeError",
     "evalue": "'child' object has no attribute 'money'",
     "output_type": "error",
     "traceback": [
      "\u001b[1;31m---------------------------------------------------------------------------\u001b[0m",
      "\u001b[1;31mAttributeError\u001b[0m                            Traceback (most recent call last)",
      "\u001b[1;32m~\\AppData\\Local\\Temp\\ipykernel_8596\\158498915.py\u001b[0m in \u001b[0;36m<module>\u001b[1;34m\u001b[0m\n\u001b[1;32m----> 1\u001b[1;33m \u001b[0mc1\u001b[0m\u001b[1;33m.\u001b[0m\u001b[0mmoney\u001b[0m\u001b[1;33m(\u001b[0m\u001b[1;33m)\u001b[0m\u001b[1;33m\u001b[0m\u001b[1;33m\u001b[0m\u001b[0m\n\u001b[0m",
      "\u001b[1;31mAttributeError\u001b[0m: 'child' object has no attribute 'money'"
     ]
    }
   ],
   "source": [
    "c1.money()"
   ]
  },
  {
   "cell_type": "code",
   "execution_count": null,
   "id": "55de9c43",
   "metadata": {},
   "outputs": [],
   "source": []
  },
  {
   "cell_type": "code",
   "execution_count": 64,
   "id": "7e770d3f",
   "metadata": {},
   "outputs": [],
   "source": [
    "class parent:\n",
    "    def __init__(sp):\n",
    "        print(\"I'm self parent Function :\",sp)\n",
    "    def money(sp):\n",
    "        print(\"I'm money Function :\")\n",
    "\n",
    "class child (parent) :  # class class_name ( parent_name )\n",
    "    def __init__(sc):\n",
    "        print(\"I'm self child Function :\",sc)\n",
    "    def study(sc):\n",
    "        print(\"I'm study Function :\")\n",
    "    def m(sc):  #sc is an object\n",
    "        parent.money(sc)"
   ]
  },
  {
   "cell_type": "code",
   "execution_count": 65,
   "id": "61fa8798",
   "metadata": {},
   "outputs": [
    {
     "name": "stdout",
     "output_type": "stream",
     "text": [
      "I'm self parent Function : <__main__.parent object at 0x0000022736816CA0>\n"
     ]
    }
   ],
   "source": [
    "p1=parent()"
   ]
  },
  {
   "cell_type": "code",
   "execution_count": 66,
   "id": "79c80c53",
   "metadata": {},
   "outputs": [
    {
     "name": "stdout",
     "output_type": "stream",
     "text": [
      "I'm self child Function : <__main__.child object at 0x0000022736816CD0>\n"
     ]
    }
   ],
   "source": [
    "c2=child()"
   ]
  },
  {
   "cell_type": "code",
   "execution_count": null,
   "id": "dfec5cb1",
   "metadata": {},
   "outputs": [],
   "source": []
  },
  {
   "cell_type": "code",
   "execution_count": 67,
   "id": "f6a09e0f",
   "metadata": {},
   "outputs": [
    {
     "name": "stdout",
     "output_type": "stream",
     "text": [
      "I'm study Function :\n"
     ]
    }
   ],
   "source": [
    "c1.study()"
   ]
  },
  {
   "cell_type": "code",
   "execution_count": 68,
   "id": "c3fd561b",
   "metadata": {},
   "outputs": [
    {
     "ename": "AttributeError",
     "evalue": "'child' object has no attribute 'parent'",
     "output_type": "error",
     "traceback": [
      "\u001b[1;31m---------------------------------------------------------------------------\u001b[0m",
      "\u001b[1;31mAttributeError\u001b[0m                            Traceback (most recent call last)",
      "\u001b[1;32m~\\AppData\\Local\\Temp\\ipykernel_8596\\2825390707.py\u001b[0m in \u001b[0;36m<module>\u001b[1;34m\u001b[0m\n\u001b[1;32m----> 1\u001b[1;33m \u001b[0mc2\u001b[0m\u001b[1;33m.\u001b[0m\u001b[0mparent\u001b[0m\u001b[1;33m.\u001b[0m\u001b[0mmoney\u001b[0m\u001b[1;33m(\u001b[0m\u001b[1;33m)\u001b[0m\u001b[1;33m\u001b[0m\u001b[1;33m\u001b[0m\u001b[0m\n\u001b[0m",
      "\u001b[1;31mAttributeError\u001b[0m: 'child' object has no attribute 'parent'"
     ]
    }
   ],
   "source": [
    "c2.parent.money()"
   ]
  },
  {
   "cell_type": "code",
   "execution_count": 69,
   "id": "3a0ca5d3",
   "metadata": {},
   "outputs": [
    {
     "name": "stdout",
     "output_type": "stream",
     "text": [
      "I'm money Function :\n"
     ]
    }
   ],
   "source": [
    "c2.m()"
   ]
  },
  {
   "cell_type": "code",
   "execution_count": null,
   "id": "6037ad6d",
   "metadata": {},
   "outputs": [],
   "source": []
  },
  {
   "cell_type": "code",
   "execution_count": 1,
   "id": "17a7e1f6",
   "metadata": {},
   "outputs": [],
   "source": [
    "class G_parent:\n",
    "    def money(sgp):\n",
    "        print(\"I'm money Function :\")\n",
    "\n",
    "class parent (G_parent):\n",
    "    def job(sp):\n",
    "        print(\"I'm job Function :\")\n",
    "\n",
    "class child (parent):\n",
    "    def study(sc):\n",
    "        print(\"I'm study Function :\")"
   ]
  },
  {
   "cell_type": "code",
   "execution_count": 2,
   "id": "734e0610",
   "metadata": {},
   "outputs": [],
   "source": [
    "p1=parent()\n",
    "c1=child()"
   ]
  },
  {
   "cell_type": "code",
   "execution_count": 3,
   "id": "02af59d5",
   "metadata": {},
   "outputs": [
    {
     "name": "stdout",
     "output_type": "stream",
     "text": [
      "I'm job Function :\n"
     ]
    }
   ],
   "source": [
    "c1.job()"
   ]
  },
  {
   "cell_type": "code",
   "execution_count": 8,
   "id": "6fc94d89",
   "metadata": {},
   "outputs": [
    {
     "name": "stdout",
     "output_type": "stream",
     "text": [
      "I'm study Function :\n"
     ]
    }
   ],
   "source": [
    "c1.study()"
   ]
  },
  {
   "cell_type": "code",
   "execution_count": 9,
   "id": "a42b855a",
   "metadata": {},
   "outputs": [
    {
     "name": "stdout",
     "output_type": "stream",
     "text": [
      "I'm money Function :\n"
     ]
    }
   ],
   "source": [
    "c1.money()"
   ]
  },
  {
   "cell_type": "code",
   "execution_count": null,
   "id": "268fb1ff",
   "metadata": {},
   "outputs": [],
   "source": []
  },
  {
   "cell_type": "code",
   "execution_count": 4,
   "id": "7de35bef",
   "metadata": {},
   "outputs": [],
   "source": [
    "class G_parent:\n",
    "    def money(self,gp):\n",
    "        print(\"I'm money Function :\",gp)\n",
    "\n",
    "class parent (G_parent):\n",
    "    def job(self,p):\n",
    "        print(\"I'm job Function :\",p)\n",
    "\n",
    "class child (parent):\n",
    "    def study(self,c):\n",
    "        print(\"I'm study Function :\",c)"
   ]
  },
  {
   "cell_type": "code",
   "execution_count": 5,
   "id": "5794573e",
   "metadata": {},
   "outputs": [],
   "source": [
    "p=parent()\n",
    "c=child()"
   ]
  },
  {
   "cell_type": "code",
   "execution_count": 6,
   "id": "ee21eaaf",
   "metadata": {},
   "outputs": [
    {
     "name": "stdout",
     "output_type": "stream",
     "text": [
      "I'm money Function : 20\n"
     ]
    }
   ],
   "source": [
    "c.money(20)"
   ]
  },
  {
   "cell_type": "code",
   "execution_count": 7,
   "id": "d2c7e66f",
   "metadata": {},
   "outputs": [
    {
     "name": "stdout",
     "output_type": "stream",
     "text": [
      "I'm job Function : 300\n"
     ]
    }
   ],
   "source": [
    "c.job(300)"
   ]
  },
  {
   "cell_type": "code",
   "execution_count": null,
   "id": "e6a428dd",
   "metadata": {},
   "outputs": [],
   "source": []
  },
  {
   "cell_type": "code",
   "execution_count": 10,
   "id": "48083ba5",
   "metadata": {},
   "outputs": [],
   "source": [
    "class company:\n",
    "    def logo(self,co):\n",
    "        print(\"I'm company Function :\",co)\n",
    "    def rto(self,r):\n",
    "        print(\"RTO office in :\")\n",
    "        \n",
    "class bike (company):\n",
    "    def Wheels(self,b):\n",
    "        print(\"Bike Wheels :\",b)\n",
    "    \n",
    "class car (company):\n",
    "    def Seats(self,c):\n",
    "        print(\"Car seats :\",c)"
   ]
  },
  {
   "cell_type": "code",
   "execution_count": 11,
   "id": "efaf2ba6",
   "metadata": {},
   "outputs": [],
   "source": [
    "b=bike()\n",
    "c=car()"
   ]
  },
  {
   "cell_type": "code",
   "execution_count": 12,
   "id": "18e6970c",
   "metadata": {},
   "outputs": [
    {
     "name": "stdout",
     "output_type": "stream",
     "text": [
      "I'm company Function : BMW\n",
      "RTO office in :\n",
      "Bike Wheels : 2\n"
     ]
    }
   ],
   "source": [
    "b.logo(\"BMW\")\n",
    "b.rto(\"Delhi\")\n",
    "b.Wheels(2)"
   ]
  },
  {
   "cell_type": "code",
   "execution_count": 14,
   "id": "1c87fbcd",
   "metadata": {},
   "outputs": [
    {
     "name": "stdout",
     "output_type": "stream",
     "text": [
      "I'm company Function : BMW\n",
      "RTO office in :\n",
      "Car seats : 5\n"
     ]
    }
   ],
   "source": [
    "c.logo(\"BMW\")\n",
    "c.rto(\"Delhi\")\n",
    "c.Seats(5)"
   ]
  },
  {
   "cell_type": "code",
   "execution_count": null,
   "id": "039f642d",
   "metadata": {},
   "outputs": [],
   "source": []
  },
  {
   "cell_type": "code",
   "execution_count": 17,
   "id": "09b2a6df",
   "metadata": {},
   "outputs": [],
   "source": [
    "class human:\n",
    "    def eyes(x):\n",
    "        print(\"I'm eyes Function :\",x)\n",
    "        "
   ]
  },
  {
   "cell_type": "code",
   "execution_count": 25,
   "id": "1022b377",
   "metadata": {},
   "outputs": [
    {
     "name": "stdout",
     "output_type": "stream",
     "text": [
      "<__main__.human object at 0x000002E30E40F490>\n",
      "<__main__.human object at 0x000002E30E40F820>\n",
      "<__main__.human object at 0x000002E30E40F490>\n",
      "<__main__.human object at 0x000002E30E40F820>\n"
     ]
    }
   ],
   "source": [
    "a=human()\n",
    "print(a)\n",
    "a=human()\n",
    "print(a)\n",
    "a=human()\n",
    "print(a)\n",
    "a=human()\n",
    "print(a)\n"
   ]
  },
  {
   "cell_type": "code",
   "execution_count": 26,
   "id": "cc8ed332",
   "metadata": {},
   "outputs": [
    {
     "data": {
      "text/plain": [
       "<__main__.human at 0x2e30e40f580>"
      ]
     },
     "execution_count": 26,
     "metadata": {},
     "output_type": "execute_result"
    }
   ],
   "source": [
    "human()"
   ]
  },
  {
   "cell_type": "code",
   "execution_count": null,
   "id": "6cbbbcaa",
   "metadata": {},
   "outputs": [],
   "source": []
  },
  {
   "cell_type": "code",
   "execution_count": null,
   "id": "ad35f8ee",
   "metadata": {},
   "outputs": [],
   "source": []
  },
  {
   "cell_type": "code",
   "execution_count": 27,
   "id": "c6691358",
   "metadata": {},
   "outputs": [],
   "source": [
    "l=[human(),human(),human(),human()]"
   ]
  },
  {
   "cell_type": "code",
   "execution_count": 30,
   "id": "1fcf180e",
   "metadata": {},
   "outputs": [
    {
     "data": {
      "text/plain": [
       "<__main__.human at 0x2e30e40f850>"
      ]
     },
     "execution_count": 30,
     "metadata": {},
     "output_type": "execute_result"
    }
   ],
   "source": [
    "l[0]"
   ]
  },
  {
   "cell_type": "code",
   "execution_count": 28,
   "id": "02ae95fe",
   "metadata": {},
   "outputs": [
    {
     "data": {
      "text/plain": [
       "<__main__.human at 0x2e30e40f910>"
      ]
     },
     "execution_count": 28,
     "metadata": {},
     "output_type": "execute_result"
    }
   ],
   "source": [
    "l[1]"
   ]
  },
  {
   "cell_type": "code",
   "execution_count": 31,
   "id": "66b1b6d0",
   "metadata": {},
   "outputs": [
    {
     "data": {
      "text/plain": [
       "<__main__.human at 0x2e30e40f910>"
      ]
     },
     "execution_count": 31,
     "metadata": {},
     "output_type": "execute_result"
    }
   ],
   "source": [
    "l[1]"
   ]
  },
  {
   "cell_type": "code",
   "execution_count": 29,
   "id": "1766e04f",
   "metadata": {},
   "outputs": [
    {
     "data": {
      "text/plain": [
       "[<__main__.human at 0x2e30e40f850>,\n",
       " <__main__.human at 0x2e30e40f910>,\n",
       " <__main__.human at 0x2e30e40fb50>,\n",
       " <__main__.human at 0x2e30e40f370>]"
      ]
     },
     "execution_count": 29,
     "metadata": {},
     "output_type": "execute_result"
    }
   ],
   "source": [
    "l"
   ]
  },
  {
   "cell_type": "code",
   "execution_count": 32,
   "id": "6f2c0bd2",
   "metadata": {},
   "outputs": [],
   "source": [
    "l=[a,a,a,a,a,a,a] #latest a value"
   ]
  },
  {
   "cell_type": "code",
   "execution_count": 33,
   "id": "0a26f935",
   "metadata": {},
   "outputs": [
    {
     "data": {
      "text/plain": [
       "[<__main__.human at 0x2e30e40f820>,\n",
       " <__main__.human at 0x2e30e40f820>,\n",
       " <__main__.human at 0x2e30e40f820>,\n",
       " <__main__.human at 0x2e30e40f820>,\n",
       " <__main__.human at 0x2e30e40f820>,\n",
       " <__main__.human at 0x2e30e40f820>,\n",
       " <__main__.human at 0x2e30e40f820>]"
      ]
     },
     "execution_count": 33,
     "metadata": {},
     "output_type": "execute_result"
    }
   ],
   "source": [
    "l"
   ]
  },
  {
   "cell_type": "code",
   "execution_count": null,
   "id": "6cae142f",
   "metadata": {},
   "outputs": [],
   "source": []
  }
 ],
 "metadata": {
  "kernelspec": {
   "display_name": "Python 3 (ipykernel)",
   "language": "python",
   "name": "python3"
  },
  "language_info": {
   "codemirror_mode": {
    "name": "ipython",
    "version": 3
   },
   "file_extension": ".py",
   "mimetype": "text/x-python",
   "name": "python",
   "nbconvert_exporter": "python",
   "pygments_lexer": "ipython3",
   "version": "3.9.13"
  }
 },
 "nbformat": 4,
 "nbformat_minor": 5
}
