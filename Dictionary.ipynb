{
 "cells": [
  {
   "cell_type": "code",
   "execution_count": 1,
   "id": "7c5d49fd",
   "metadata": {},
   "outputs": [],
   "source": [
    "a=dict()"
   ]
  },
  {
   "cell_type": "code",
   "execution_count": 2,
   "id": "8c5d6114",
   "metadata": {},
   "outputs": [
    {
     "data": {
      "text/plain": [
       "{}"
      ]
     },
     "execution_count": 2,
     "metadata": {},
     "output_type": "execute_result"
    }
   ],
   "source": [
    "a"
   ]
  },
  {
   "cell_type": "code",
   "execution_count": 3,
   "id": "a289b88a",
   "metadata": {},
   "outputs": [],
   "source": [
    "a['Name']='Vishwkant'\n",
    "a['Age']='21'\n",
    "a['Batch']='Morning'\n",
    "a['Class']='Python'"
   ]
  },
  {
   "cell_type": "code",
   "execution_count": 4,
   "id": "38459e12",
   "metadata": {},
   "outputs": [
    {
     "data": {
      "text/plain": [
       "{'Name': 'Vishwkant', 'Age': '21', 'Batch': 'Morning', 'Class': 'Python'}"
      ]
     },
     "execution_count": 4,
     "metadata": {},
     "output_type": "execute_result"
    }
   ],
   "source": [
    "a"
   ]
  },
  {
   "cell_type": "code",
   "execution_count": 5,
   "id": "bc6ff1e1",
   "metadata": {},
   "outputs": [
    {
     "data": {
      "text/plain": [
       "dict_keys(['Name', 'Age', 'Batch', 'Class'])"
      ]
     },
     "execution_count": 5,
     "metadata": {},
     "output_type": "execute_result"
    }
   ],
   "source": [
    "a.keys()"
   ]
  },
  {
   "cell_type": "code",
   "execution_count": 6,
   "id": "488e0ba6",
   "metadata": {},
   "outputs": [
    {
     "data": {
      "text/plain": [
       "dict_values(['Vishwkant', '21', 'Morning', 'Python'])"
      ]
     },
     "execution_count": 6,
     "metadata": {},
     "output_type": "execute_result"
    }
   ],
   "source": [
    "a.values()"
   ]
  },
  {
   "cell_type": "code",
   "execution_count": 27,
   "id": "25c445d0",
   "metadata": {},
   "outputs": [],
   "source": [
    "a['Class']='Data Analyst'"
   ]
  },
  {
   "cell_type": "code",
   "execution_count": 28,
   "id": "93c646ca",
   "metadata": {},
   "outputs": [
    {
     "data": {
      "text/plain": [
       "{'Name': 'Vishwkant', 'Age': '21', 'Batch': 'Morning', 'Class': 'Data Analyst'}"
      ]
     },
     "execution_count": 28,
     "metadata": {},
     "output_type": "execute_result"
    }
   ],
   "source": [
    "a"
   ]
  },
  {
   "cell_type": "code",
   "execution_count": null,
   "id": "8b99f44a",
   "metadata": {},
   "outputs": [],
   "source": []
  },
  {
   "cell_type": "code",
   "execution_count": 8,
   "id": "a6b53ae6",
   "metadata": {},
   "outputs": [
    {
     "name": "stdout",
     "output_type": "stream",
     "text": [
      "Name\n",
      "Age\n",
      "Batch\n",
      "Class\n"
     ]
    }
   ],
   "source": [
    "for i in a:\n",
    "    print(i)"
   ]
  },
  {
   "cell_type": "code",
   "execution_count": 14,
   "id": "0a0549bf",
   "metadata": {},
   "outputs": [
    {
     "name": "stdout",
     "output_type": "stream",
     "text": [
      "Name      Vishwkant\n",
      "Age      21\n",
      "Batch      Morning\n",
      "Class      Python\n"
     ]
    }
   ],
   "source": [
    "for i in a:\n",
    "    print(i,\"    \",a[i])  # i is for keys a[i] is for values"
   ]
  },
  {
   "cell_type": "code",
   "execution_count": 16,
   "id": "0258956f",
   "metadata": {},
   "outputs": [
    {
     "name": "stdout",
     "output_type": "stream",
     "text": [
      "Name     Vishwkant\n",
      "Age     21\n",
      "Batch     Morning\n",
      "Class     Python\n"
     ]
    }
   ],
   "source": [
    "for k,v in a.items():\n",
    "    print(k,\"   \",v)"
   ]
  },
  {
   "cell_type": "code",
   "execution_count": 17,
   "id": "6936e7e4",
   "metadata": {},
   "outputs": [],
   "source": [
    "b=dict()"
   ]
  },
  {
   "cell_type": "code",
   "execution_count": 18,
   "id": "e6dd6165",
   "metadata": {},
   "outputs": [],
   "source": [
    "b=a.copy()"
   ]
  },
  {
   "cell_type": "code",
   "execution_count": 19,
   "id": "8d948bfe",
   "metadata": {},
   "outputs": [
    {
     "data": {
      "text/plain": [
       "{'Name': 'Vishwkant', 'Age': '21', 'Batch': 'Morning', 'Class': 'Python'}"
      ]
     },
     "execution_count": 19,
     "metadata": {},
     "output_type": "execute_result"
    }
   ],
   "source": [
    "b"
   ]
  },
  {
   "cell_type": "code",
   "execution_count": 20,
   "id": "9c0e5260",
   "metadata": {},
   "outputs": [],
   "source": [
    "b.clear()"
   ]
  },
  {
   "cell_type": "code",
   "execution_count": 21,
   "id": "e88d2767",
   "metadata": {},
   "outputs": [
    {
     "data": {
      "text/plain": [
       "{}"
      ]
     },
     "execution_count": 21,
     "metadata": {},
     "output_type": "execute_result"
    }
   ],
   "source": [
    "b"
   ]
  },
  {
   "cell_type": "code",
   "execution_count": 22,
   "id": "8ab9ff97",
   "metadata": {},
   "outputs": [],
   "source": [
    "from collections import OrderedDict "
   ]
  },
  {
   "cell_type": "code",
   "execution_count": 23,
   "id": "39a21909",
   "metadata": {},
   "outputs": [],
   "source": [
    "b=OrderedDict()\n"
   ]
  },
  {
   "cell_type": "code",
   "execution_count": 24,
   "id": "b57b4674",
   "metadata": {},
   "outputs": [
    {
     "data": {
      "text/plain": [
       "OrderedDict()"
      ]
     },
     "execution_count": 24,
     "metadata": {},
     "output_type": "execute_result"
    }
   ],
   "source": [
    "b"
   ]
  },
  {
   "cell_type": "code",
   "execution_count": 25,
   "id": "9bb47b8c",
   "metadata": {},
   "outputs": [],
   "source": [
    "b['Name']='Vishwkant'\n",
    "b['Age']='21'\n",
    "b['Batch']='Morning'\n",
    "b['Class']='Python'"
   ]
  },
  {
   "cell_type": "code",
   "execution_count": 26,
   "id": "ce36e3bc",
   "metadata": {},
   "outputs": [
    {
     "data": {
      "text/plain": [
       "OrderedDict([('Name', 'Vishwkant'),\n",
       "             ('Age', '21'),\n",
       "             ('Batch', 'Morning'),\n",
       "             ('Class', 'Python')])"
      ]
     },
     "execution_count": 26,
     "metadata": {},
     "output_type": "execute_result"
    }
   ],
   "source": [
    "b"
   ]
  },
  {
   "cell_type": "code",
   "execution_count": null,
   "id": "170998d2",
   "metadata": {},
   "outputs": [],
   "source": []
  }
 ],
 "metadata": {
  "kernelspec": {
   "display_name": "Python 3 (ipykernel)",
   "language": "python",
   "name": "python3"
  },
  "language_info": {
   "codemirror_mode": {
    "name": "ipython",
    "version": 3
   },
   "file_extension": ".py",
   "mimetype": "text/x-python",
   "name": "python",
   "nbconvert_exporter": "python",
   "pygments_lexer": "ipython3",
   "version": "3.9.13"
  }
 },
 "nbformat": 4,
 "nbformat_minor": 5
}
