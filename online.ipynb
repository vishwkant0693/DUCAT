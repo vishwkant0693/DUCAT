{
 "cells": [
  {
   "cell_type": "code",
   "execution_count": 29,
   "id": "35ab1932",
   "metadata": {},
   "outputs": [
    {
     "name": "stdout",
     "output_type": "stream",
     "text": [
      "DUCAT\n",
      "Pitampura\n",
      "Ducat_id :17748\n",
      "VISHWKANT\n",
      "Python\n",
      "Enter Password :456\n",
      "Incorrect Password\n",
      "\n",
      "Thanks\n"
     ]
    }
   ],
   "source": [
    "print(\"DUCAT\")\n",
    "print(\"Pitampura\")\n",
    "i=int(input(\"Ducat_id :\"))\n",
    "if i==17748:     #indentation\n",
    "    print(\"VISHWKANT\")\n",
    "    print(\"Python\")\n",
    "    p=int(input(\"Enter Password :\"))\n",
    "    if p==693:\n",
    "        print(\"10:00AM\")\n",
    "        print(\"Offline\")\n",
    "        print(\"Address\")\n",
    "    else:\n",
    "        print(\"Incorrect Password\")\n",
    "else:\n",
    "    print(\"id not found\\nTry Again !!\")\n",
    "print(\"\\nThanks\")"
   ]
  },
  {
   "cell_type": "code",
   "execution_count": null,
   "id": "ff70ee7a",
   "metadata": {},
   "outputs": [],
   "source": []
  },
  {
   "cell_type": "code",
   "execution_count": 10,
   "id": "e32757d8",
   "metadata": {},
   "outputs": [
    {
     "name": "stdout",
     "output_type": "stream",
     "text": [
      "Pushpendra sharma\n",
      "from jaipur\n",
      "Data scientist\n",
      "Enter user password :1111\n",
      "Bank Name :HDFC\n",
      "Branch Code :HD356677\n",
      "Account Number :12345678\n",
      "Enter your PP :2222\n",
      "Bank Bal :1000\n",
      "ATM pin :1234\n",
      "\n",
      "Thanks\n"
     ]
    }
   ],
   "source": [
    "print(\"Pushpendra sharma\")\n",
    "print(\"from jaipur\")\n",
    "print(\"Data scientist\")\n",
    "p=1111\n",
    "up=int(input(\"Enter user password :\"))\n",
    "if p==up:\n",
    "    print(\"Bank Name :HDFC\")\n",
    "    print(\"Branch Code :HD356677\")\n",
    "    print(\"Account Number :12345678\")\n",
    "    pp=2222\n",
    "    upp=int(input(\"Enter your PP :\"))\n",
    "    if pp==upp:\n",
    "        print(\"Bank Bal :1000\")\n",
    "        print(\"ATM pin :1234\")\n",
    "    else:\n",
    "        print(\"Wrong PP\")\n",
    "else:\n",
    "    print(\"Sorry password not match\")\n",
    "    print(\"Try again\")\n",
    "print(\"\\nThanks\")"
   ]
  },
  {
   "cell_type": "code",
   "execution_count": null,
   "id": "98be00e1",
   "metadata": {},
   "outputs": [],
   "source": []
  },
  {
   "cell_type": "code",
   "execution_count": null,
   "id": "45ec545c",
   "metadata": {},
   "outputs": [],
   "source": [
    "#if else ladder "
   ]
  },
  {
   "cell_type": "code",
   "execution_count": null,
   "id": "6054ae74",
   "metadata": {},
   "outputs": [],
   "source": []
  },
  {
   "cell_type": "code",
   "execution_count": 16,
   "id": "13ba60b3",
   "metadata": {},
   "outputs": [
    {
     "name": "stdout",
     "output_type": "stream",
     "text": [
      "Enter lock no.112\n",
      "A lock\n",
      "1111\n"
     ]
    }
   ],
   "source": [
    "key=int(input(\"Enter lock no.\"))\n",
    "if key<=1111:\n",
    "    print(\"A lock\")\n",
    "    print(\"1111\")\n",
    "elif key<=2222:\n",
    "    print(\"B lock\")\n",
    "    print(\"2222\")\n",
    "else:\n",
    "    print(\"wrong key\")"
   ]
  },
  {
   "cell_type": "code",
   "execution_count": null,
   "id": "70138e24",
   "metadata": {},
   "outputs": [],
   "source": []
  },
  {
   "cell_type": "code",
   "execution_count": null,
   "id": "26b8cffe",
   "metadata": {},
   "outputs": [],
   "source": [
    "#1  Profit & Loss"
   ]
  },
  {
   "cell_type": "code",
   "execution_count": 2,
   "id": "cc63e6de",
   "metadata": {},
   "outputs": [
    {
     "name": "stdout",
     "output_type": "stream",
     "text": [
      "Selling Price :30\n",
      "Cost Earned :15\n",
      "Profit\n",
      "Profit Earned 15.0\n"
     ]
    }
   ],
   "source": [
    "s= float(input (\"Selling Price :\")) \n",
    "c= float(input (\"Cost Price :\"))\n",
    "x=s-c\n",
    "if x>=1:\n",
    "    print(\"Profit\")\n",
    "    print(\"Profit Earned :\",x)\n",
    "else:\n",
    "    print(\"Loss\")\n",
    "    print(\"Loss Incurred :\",x)"
   ]
  },
  {
   "cell_type": "code",
   "execution_count": null,
   "id": "2a3907c7",
   "metadata": {},
   "outputs": [],
   "source": [
    "#2  Even Odd"
   ]
  },
  {
   "cell_type": "code",
   "execution_count": 4,
   "id": "387dbeed",
   "metadata": {},
   "outputs": [
    {
     "name": "stdout",
     "output_type": "stream",
     "text": [
      "Enter a value :7\n",
      "Odd\n"
     ]
    }
   ],
   "source": [
    "i= int(input (\"Enter a value :\")) \n",
    "print(\"Even\") if ((i%2)==0) else print(\"Odd\") "
   ]
  },
  {
   "cell_type": "code",
   "execution_count": null,
   "id": "4f40e5d6",
   "metadata": {},
   "outputs": [],
   "source": [
    "#3    Reverse of 5 digit number"
   ]
  },
  {
   "cell_type": "code",
   "execution_count": 4,
   "id": "a92db157",
   "metadata": {},
   "outputs": [
    {
     "name": "stdout",
     "output_type": "stream",
     "text": [
      "Enter 5 Digit no. :98970\n",
      "Reversed No. : 0 7 9 8 9 ( 7989 )\n"
     ]
    }
   ],
   "source": [
    "x=int(input(\"Enter 5 Digit no. :\"))\n",
    "if x>=10000 and x<=99999:\n",
    "    d=x%10\n",
    "    q=x//10\n",
    "\n",
    "    d1=q%10\n",
    "    q1=q//10\n",
    "\n",
    "    d2=q1%10\n",
    "    q2=q1//10\n",
    "\n",
    "    d3=q2%10\n",
    "    q3=q2//10\n",
    "\n",
    "    d4=q3%10\n",
    "    q4=q3//10\n",
    "\n",
    "    o=(d*10000)+(d1*1000)+(d2*100)+(d3*10)+d4\n",
    "    \n",
    "    print(\"Reversed No. :\",d,d1,d2,d3,d4,'(',o,')') \n",
    "    \n",
    "else:\n",
    "    print(\"Wrong Data\")"
   ]
  },
  {
   "cell_type": "code",
   "execution_count": null,
   "id": "b6222a6d",
   "metadata": {},
   "outputs": [],
   "source": [
    "#4    Area & Perimeter Of Reactangle"
   ]
  },
  {
   "cell_type": "code",
   "execution_count": 19,
   "id": "fcefc5cc",
   "metadata": {},
   "outputs": [
    {
     "name": "stdout",
     "output_type": "stream",
     "text": [
      "Lenght of Rectangle :3\n",
      "Breadth of Rectangle :4\n",
      "Area Of Rectangle : 12.0\n",
      "Perimeter Of Rectangle : 14.0\n",
      "perimeter of rectangle with length = 3.0 and breadth = 4.0  is greater than area of rectangle\n"
     ]
    }
   ],
   "source": [
    "l= float(input (\"Lenght of Rectangle :\")) \n",
    "b= float(input (\"Breadth of Rectangle :\")) \n",
    "a=(l*b)\n",
    "p=(2*(l+b))\n",
    "print(\"Area Of Rectangle :\",a)\n",
    "print(\"Perimeter Of Rectangle :\",p)\n",
    "if a>p:\n",
    "    print(\"Area of rectangle with length =\",l,\"and breadth =\",b,\"is greater than perimeter of Rectangle\")\n",
    "else:\n",
    "    print(\"perimeter of rectangle with length =\",l,\"and breadth =\",b,\" is greater than area of rectangle\")"
   ]
  },
  {
   "cell_type": "code",
   "execution_count": null,
   "id": "7dd49bb5",
   "metadata": {},
   "outputs": [],
   "source": [
    "#5    CAPITAL ,small & Special Character"
   ]
  },
  {
   "cell_type": "code",
   "execution_count": null,
   "id": "e5e677ea",
   "metadata": {},
   "outputs": [],
   "source": [
    "#reference for the ques. 5\n",
    "Ascii code :-\n",
    "    0 to 255   ---> binary\n",
    "    A - 65\n",
    "    B - 66\n",
    "    Z - 90\n",
    "    \n",
    "    a - 97\n",
    "    b - 98\n",
    "    z - 122\n",
    "    \n",
    "    #ord('0-9')\n",
    "    0 - 48\n",
    "    1 - 49\n",
    "    9 - 57\n",
    "    \n",
    "    enter - 13\n",
    "    esc   - 27\n",
    "    \n",
    "    #ord(digit)\n",
    "    #chr(\"alphabet or digit\")"
   ]
  },
  {
   "cell_type": "code",
   "execution_count": 14,
   "id": "b8d6e971",
   "metadata": {},
   "outputs": [
    {
     "name": "stdout",
     "output_type": "stream",
     "text": [
      "Enter any data :@\n",
      "$peC!@L C#aR@cTeR\n"
     ]
    }
   ],
   "source": [
    "x=input(\"Enter any data :\")\n",
    "if ord(x)>=65 and ord(x)<=90:\n",
    "    print(\"CAPITAL DATA\")\n",
    "elif ord(x)>=97 and ord(x)<=122:\n",
    "    print(\"small data\")\n",
    "elif ord(x)>=48 and ord(x)<=57:\n",
    "    print(\"Digit Data\")\n",
    "else:\n",
    "    print(\"$peC!@L C#aR@cTeR\")"
   ]
  },
  {
   "cell_type": "code",
   "execution_count": null,
   "id": "b165552e",
   "metadata": {},
   "outputs": [],
   "source": [
    "#6  Library Fine"
   ]
  },
  {
   "cell_type": "code",
   "execution_count": 15,
   "id": "7907d3da",
   "metadata": {},
   "outputs": [
    {
     "name": "stdout",
     "output_type": "stream",
     "text": [
      "Enter Book retuned late days :30\n",
      "your membership is cancelled\n",
      "Please Return Book Timely\n"
     ]
    }
   ],
   "source": [
    "d=int(input(\"Enter Book retuned late days :\"))\n",
    "\n",
    "if 1<=d<=5:\n",
    "    f=d*0.5\n",
    "    print(\"Fine is 50 paise per day :\",f)\n",
    "    print(\"days late :\",d)\n",
    "    print(\"Please Return Book Timely\")\n",
    "    \n",
    "elif 5<d<=9:\n",
    "    f1=d*1\n",
    "    print(\"Fine is 1 rupee per day :\",f1)\n",
    "    print(\"days late :\",d)\n",
    "    print(\"Please Return Book Timely\")\n",
    "\n",
    "elif 10<=d<30:\n",
    "    f2=d*5\n",
    "    print(\"Fine is 5 rupee per day :\",f2)\n",
    "    print(\"days late :\",d)\n",
    "    print(\"Please Return Book Timely\")\n",
    "    \n",
    "elif 30<=d:\n",
    "    f2=d*5\n",
    "    print(\"your membership is cancelled\")\n",
    "    print(\"Please Return Book Timely\")\n",
    "        \n",
    "else:\n",
    "    print(\"No Fine\")"
   ]
  },
  {
   "cell_type": "code",
   "execution_count": null,
   "id": "d51a4aee",
   "metadata": {},
   "outputs": [],
   "source": [
    "#7 Eligible for Voting"
   ]
  },
  {
   "cell_type": "code",
   "execution_count": 19,
   "id": "43c27a49",
   "metadata": {},
   "outputs": [
    {
     "name": "stdout",
     "output_type": "stream",
     "text": [
      "Enter Age of the voter :24\n",
      "Having a Voter ID (yes/no) ?:yes\n",
      "Eligible for Voting.\n"
     ]
    }
   ],
   "source": [
    "a=int(input(\"Enter Age of the voter :\"))\n",
    "\n",
    "if a>=18:\n",
    "    i=input(\"Having a Voter ID (yes/no) ?:\")\n",
    "    if i=='yes':\n",
    "        print(\"Eligible for Voting.\")\n",
    "    else:\n",
    "        print(\"Apply for Voter ID.\")\n",
    "else:\n",
    "    print(\"Not Eligible ,Age above 18 can caste their vote.\")"
   ]
  },
  {
   "cell_type": "code",
   "execution_count": null,
   "id": "c197c709",
   "metadata": {},
   "outputs": [],
   "source": [
    "#8"
   ]
  },
  {
   "cell_type": "code",
   "execution_count": 60,
   "id": "3a598ab3",
   "metadata": {},
   "outputs": [
    {
     "name": "stdout",
     "output_type": "stream",
     "text": [
      "hello word\n"
     ]
    }
   ],
   "source": [
    "x='hello word'\n",
    "print(x)"
   ]
  },
  {
   "cell_type": "code",
   "execution_count": null,
   "id": "949984e1",
   "metadata": {},
   "outputs": [],
   "source": [
    "#9"
   ]
  },
  {
   "cell_type": "code",
   "execution_count": 38,
   "id": "46d897dd",
   "metadata": {},
   "outputs": [
    {
     "name": "stdout",
     "output_type": "stream",
     "text": [
      "Enter any number : 6\n",
      "Enter any number : 7\n",
      "Enter any number : 8\n",
      "Third No. is greater\n"
     ]
    }
   ],
   "source": [
    "n1=int(input (\"Enter any number : \"))\n",
    "n2=int(input (\"Enter any number : \"))\n",
    "n3=int(input (\"Enter any number : \"))\n",
    "\n",
    "if n1>(n2 and n3):\n",
    "    print(\"First No. is greater\")\n",
    "    \n",
    "elif n2>(n1 and n3):\n",
    "    print(\"Second No. is greater\")\n",
    "    \n",
    "elif n3>(n1 and n2):\n",
    "    print(\"Third No. is greater\")\n",
    "    \n",
    "else:\n",
    "    print(\"All are equal\")"
   ]
  },
  {
   "cell_type": "code",
   "execution_count": null,
   "id": "90afcd1c",
   "metadata": {},
   "outputs": [],
   "source": [
    "#10 Leap Year"
   ]
  },
  {
   "cell_type": "code",
   "execution_count": 76,
   "id": "26d281a8",
   "metadata": {},
   "outputs": [
    {
     "name": "stdout",
     "output_type": "stream",
     "text": [
      "Enter Year :1996\n",
      "Entered Year is a Leap Year\n"
     ]
    }
   ],
   "source": [
    "y=int(input(\"Enter Year :\"))\n",
    "\n",
    "if (y%4)==0:\n",
    "    print(\"Entered Year is a Leap Year\")\n",
    "else:\n",
    "    print(\"Not A Leap Year\")"
   ]
  },
  {
   "cell_type": "code",
   "execution_count": null,
   "id": "98225aec",
   "metadata": {},
   "outputs": [],
   "source": []
  },
  {
   "cell_type": "code",
   "execution_count": null,
   "id": "56c8ba85",
   "metadata": {},
   "outputs": [],
   "source": [
    "#LOOP :- While and For Loop (While-else and For-else)"
   ]
  },
  {
   "cell_type": "code",
   "execution_count": 13,
   "id": "bd7af4c8",
   "metadata": {},
   "outputs": [
    {
     "name": "stdout",
     "output_type": "stream",
     "text": [
      "Starting Number :3\n",
      "Ending Number :9\n",
      "1 | Ducat\n",
      "2 | Ducat\n",
      "3 | Ducat\n",
      "4 | Ducat\n",
      "5 | Ducat\n",
      "6 | Ducat\n",
      "Delhi\n"
     ]
    }
   ],
   "source": [
    "x=int(input(\"Starting Number :\"))\n",
    "y=int(input(\"Ending Number :\"))\n",
    "c=x-1\n",
    "while x<y:\n",
    "    print(x-c,\"| Ducat\")\n",
    "    x=x+1\n",
    "    if x==y:\n",
    "        break  #break the loop \n",
    "print(\"Delhi\")"
   ]
  },
  {
   "cell_type": "code",
   "execution_count": 11,
   "id": "1d067d25",
   "metadata": {},
   "outputs": [
    {
     "name": "stdout",
     "output_type": "stream",
     "text": [
      "Starting Number :7\n",
      "1 | Ducat\n",
      "2 | Ducat\n",
      "3 | Ducat\n",
      "4 | Ducat\n",
      "Delhi\n"
     ]
    }
   ],
   "source": [
    "x=int(input(\"Starting Number :\"))\n",
    "c=x-1\n",
    "while x<=10:\n",
    "    print(x-c,\"| Ducat\")\n",
    "    x=x+1\n",
    "print(\"Delhi\")"
   ]
  },
  {
   "cell_type": "code",
   "execution_count": 27,
   "id": "15a90ef6",
   "metadata": {},
   "outputs": [
    {
     "name": "stdout",
     "output_type": "stream",
     "text": [
      "Enter Any Number :9\n",
      "9 * 1 = 9\n",
      "9 * 2 = 18\n",
      "9 * 3 = 27\n",
      "9 * 4 = 36\n",
      "9 * 5 = 45\n",
      "9 * 6 = 54\n",
      "9 * 7 = 63\n",
      "9 * 8 = 72\n",
      "9 * 9 = 81\n",
      "9 * 10 = 90\n",
      "Delhi\n"
     ]
    }
   ],
   "source": [
    "#Code for any number table\n",
    "\n",
    "x=int(input(\"Enter Any Number :\"))\n",
    "n=1\n",
    "while n<=10:\n",
    "    print(x,\"*\",n,\"=\",x*n)\n",
    "    n=n+1\n",
    "print(\"Delhi\")"
   ]
  },
  {
   "cell_type": "code",
   "execution_count": null,
   "id": "f227f588",
   "metadata": {},
   "outputs": [],
   "source": []
  },
  {
   "cell_type": "code",
   "execution_count": 3,
   "id": "15242207",
   "metadata": {},
   "outputs": [
    {
     "name": "stdout",
     "output_type": "stream",
     "text": [
      "55\n",
      "66\n",
      "56\n",
      "78\n",
      "65\n",
      "9\n"
     ]
    }
   ],
   "source": [
    "for i in [55,66,56,78,65,9]:\n",
    "    print(i)"
   ]
  },
  {
   "cell_type": "code",
   "execution_count": 37,
   "id": "9330b827",
   "metadata": {},
   "outputs": [
    {
     "name": "stdout",
     "output_type": "stream",
     "text": [
      "Welcome\n",
      "enter a number1\n",
      "8 Dual\n"
     ]
    }
   ],
   "source": [
    "print(\"Welcome\")\n",
    "x=int(input(\"enter a number\"))\n",
    "for x in range(1,10):\n",
    "    print(x,\"Dual\")\n",
    "    if x==8:\n",
    "        pass"
   ]
  },
  {
   "cell_type": "code",
   "execution_count": null,
   "id": "edb66861",
   "metadata": {},
   "outputs": [],
   "source": []
  },
  {
   "cell_type": "code",
   "execution_count": 1,
   "id": "d2d4ad9d",
   "metadata": {},
   "outputs": [
    {
     "name": "stdout",
     "output_type": "stream",
     "text": [
      "Enter a number :4\n",
      "12\n"
     ]
    }
   ],
   "source": [
    "#FACTORIAL\n",
    "f=int(input(\"Enter a number :\"))\n",
    "h=f-1\n",
    "while f>=1:\n",
    "    print(f*h)\n",
    "    h=f-1\n",
    "    if \n",
    "    "
   ]
  },
  {
   "cell_type": "code",
   "execution_count": null,
   "id": "175bf585",
   "metadata": {},
   "outputs": [],
   "source": []
  },
  {
   "cell_type": "code",
   "execution_count": 2,
   "id": "37dee9bb",
   "metadata": {},
   "outputs": [
    {
     "name": "stdout",
     "output_type": "stream",
     "text": [
      "population per year  1 :=== 100000\n",
      "population per year  2 :=== 110000.0\n",
      "population per year  3 :=== 121000.0\n",
      "population per year  4 :=== 133100.0\n",
      "population per year  5 :=== 146410.0\n",
      "population per year  6 :=== 161051.0\n",
      "population per year  7 :=== 177156.1\n",
      "population per year  8 :=== 194871.71000000002\n",
      "population per year  9 :=== 214358.88100000002\n",
      "population per year  10 :=== 235794.76910000003\n"
     ]
    }
   ],
   "source": [
    "#6 \n",
    "p=100000\n",
    "y=1\n",
    "while y<=10:\n",
    "    print(\"population per year \",y,\":===\",p)\n",
    "    p=p+p*(10/100)\n",
    "    y=y+1"
   ]
  },
  {
   "cell_type": "code",
   "execution_count": null,
   "id": "de16875b",
   "metadata": {},
   "outputs": [],
   "source": []
  },
  {
   "cell_type": "code",
   "execution_count": 5,
   "id": "c3c7de55",
   "metadata": {},
   "outputs": [
    {
     "name": "stdout",
     "output_type": "stream",
     "text": [
      "number56\n",
      "56 * 1 = 56\n",
      "56 * 2 = 112\n",
      "56 * 3 = 168\n",
      "56 * 4 = 224\n",
      "56 * 5 = 280\n",
      "56 * 6 = 336\n",
      "56 * 7 = 392\n",
      "56 * 8 = 448\n",
      "56 * 9 = 504\n",
      "56 * 10 = 560\n"
     ]
    }
   ],
   "source": [
    "#Table\n",
    "t=int(input(\"number\"))\n",
    "n=1\n",
    "while n<=10:\n",
    "    print(t,\"*\",n,\"=\",t*n)\n",
    "    n=n+1"
   ]
  },
  {
   "cell_type": "code",
   "execution_count": null,
   "id": "f8077a30",
   "metadata": {},
   "outputs": [],
   "source": []
  },
  {
   "cell_type": "code",
   "execution_count": 2,
   "id": "a8ed1d3b",
   "metadata": {},
   "outputs": [
    {
     "name": "stdout",
     "output_type": "stream",
     "text": [
      "Enter no. :4567\n",
      "7654\n"
     ]
    }
   ],
   "source": [
    "#reverse no\n",
    "x=int(input(\"Enter no. :\"))\n",
    "s=0\n",
    "while x>=1:\n",
    "    d=x%10\n",
    "    q=x//10\n",
    "    x=q\n",
    "    \n",
    "    s=s*10+d\n",
    "print(str(s))"
   ]
  },
  {
   "cell_type": "code",
   "execution_count": null,
   "id": "4170afb0",
   "metadata": {},
   "outputs": [],
   "source": []
  },
  {
   "cell_type": "code",
   "execution_count": 12,
   "id": "6559de5a",
   "metadata": {},
   "outputs": [
    {
     "name": "stdout",
     "output_type": "stream",
     "text": [
      "Enter 2 Digit no. :91\n",
      "Magical No. : 91 * 19 = 1729\n"
     ]
    }
   ],
   "source": [
    "x=int(input(\"Enter 2 Digit no. :\"))\n",
    "if x>=10 and x<=99:\n",
    "    d=x%10\n",
    "    q=x//10\n",
    "\n",
    "    d1=q%10\n",
    "    q1=q//10\n",
    "    \n",
    "    o=(d*10)+d1\n",
    "    \n",
    "    print(\"Magical No. :\",x,\"*\",o,\"=\",x*o)"
   ]
  },
  {
   "cell_type": "code",
   "execution_count": null,
   "id": "04e26763",
   "metadata": {},
   "outputs": [],
   "source": []
  },
  {
   "cell_type": "code",
   "execution_count": 28,
   "id": "2f9a4201",
   "metadata": {},
   "outputs": [
    {
     "name": "stdout",
     "output_type": "stream",
     "text": [
      "Enter any no. :34567\n",
      "Even 7 7\n",
      "Odd 6 13\n",
      "Even 5 18\n",
      "Odd 4 22\n",
      "Even 3 25\n"
     ]
    }
   ],
   "source": [
    "x=int(input(\"Enter any no. :\"))\n",
    "n=0\n",
    "while x>=1:\n",
    "    d=x%10\n",
    "    q=x//10\n",
    "    x=q\n",
    "    n=n+d\n",
    "    \n",
    "    if x%2==0:\n",
    "        print(\"Even\",x,n)\n",
    "        \n",
    "    else:\n",
    "        print(\"Odd\",x,n)"
   ]
  },
  {
   "cell_type": "code",
   "execution_count": null,
   "id": "8db6c6bc",
   "metadata": {},
   "outputs": [],
   "source": []
  },
  {
   "cell_type": "code",
   "execution_count": 8,
   "id": "97b7838d",
   "metadata": {},
   "outputs": [
    {
     "name": "stdout",
     "output_type": "stream",
     "text": [
      "1197 Divisible\n",
      "2394 Divisible\n",
      "3591 Divisible\n",
      "4788 Divisible\n",
      "5985 Divisible\n",
      "7182 Divisible\n",
      "8379 Divisible\n",
      "9576 Divisible\n",
      "10773 Divisible\n",
      "11970 Divisible\n",
      "13167 Divisible\n",
      "14364 Divisible\n",
      "15561 Divisible\n",
      "16758 Divisible\n",
      "17955 Divisible\n",
      "19152 Divisible\n",
      "20349 Divisible\n",
      "21546 Divisible\n",
      "22743 Divisible\n",
      "23940 Divisible\n",
      "25137 Divisible\n",
      "26334 Divisible\n",
      "27531 Divisible\n",
      "28728 Divisible\n",
      "29925 Divisible\n",
      "31122 Divisible\n",
      "32319 Divisible\n",
      "33516 Divisible\n",
      "34713 Divisible\n",
      "35910 Divisible\n",
      "37107 Divisible\n",
      "38304 Divisible\n",
      "39501 Divisible\n",
      "40698 Divisible\n",
      "41895 Divisible\n",
      "43092 Divisible\n",
      "44289 Divisible\n",
      "45486 Divisible\n",
      "46683 Divisible\n",
      "47880 Divisible\n",
      "49077 Divisible\n",
      "50274 Divisible\n",
      "51471 Divisible\n",
      "52668 Divisible\n",
      "53865 Divisible\n",
      "55062 Divisible\n",
      "56259 Divisible\n",
      "57456 Divisible\n",
      "58653 Divisible\n",
      "59850 Divisible\n",
      "61047 Divisible\n",
      "62244 Divisible\n",
      "63441 Divisible\n",
      "64638 Divisible\n",
      "65835 Divisible\n",
      "67032 Divisible\n",
      "68229 Divisible\n",
      "69426 Divisible\n",
      "70623 Divisible\n",
      "71820 Divisible\n",
      "73017 Divisible\n",
      "74214 Divisible\n",
      "75411 Divisible\n",
      "76608 Divisible\n",
      "77805 Divisible\n",
      "79002 Divisible\n",
      "80199 Divisible\n",
      "81396 Divisible\n",
      "82593 Divisible\n",
      "83790 Divisible\n",
      "84987 Divisible\n",
      "86184 Divisible\n",
      "87381 Divisible\n",
      "88578 Divisible\n",
      "89775 Divisible\n",
      "90972 Divisible\n",
      "92169 Divisible\n",
      "93366 Divisible\n",
      "94563 Divisible\n",
      "95760 Divisible\n",
      "96957 Divisible\n",
      "98154 Divisible\n",
      "99351 Divisible\n",
      "83\n"
     ]
    }
   ],
   "source": [
    "#7,9,19 divisible\n",
    "x=1\n",
    "n=0\n",
    "while x>=1 and x<=100000:\n",
    "    x=x+1\n",
    "    if x%7==0 and x%9==0 and x%19==0:\n",
    "        print(x,\"Divisible\")\n",
    "        n=n+1\n",
    "    else:\n",
    "        continue\n",
    "print(n)"
   ]
  },
  {
   "cell_type": "code",
   "execution_count": null,
   "id": "550f521c",
   "metadata": {},
   "outputs": [],
   "source": []
  },
  {
   "cell_type": "code",
   "execution_count": 10,
   "id": "d357b773",
   "metadata": {},
   "outputs": [
    {
     "name": "stdout",
     "output_type": "stream",
     "text": [
      "Enter any no. :996\n"
     ]
    }
   ],
   "source": [
    "x=int(input(\"Enter any no. :\"))\n",
    "while x>=1:\n",
    "    if x==((x)**0.5)*((x)**0.5):\n",
    "        print(\"pfkt sqr\")\n",
    "        break\n",
    "    else:\n",
    "        break"
   ]
  },
  {
   "cell_type": "code",
   "execution_count": null,
   "id": "3c0ba2f7",
   "metadata": {},
   "outputs": [],
   "source": []
  },
  {
   "cell_type": "code",
   "execution_count": 17,
   "id": "3390636e",
   "metadata": {},
   "outputs": [
    {
     "name": "stdout",
     "output_type": "stream",
     "text": [
      "Armstrong No. = 153\n",
      "Armstrong No. = 370\n",
      "Armstrong No. = 371\n",
      "Armstrong No. = 407\n",
      "4\n"
     ]
    }
   ],
   "source": [
    "x=1\n",
    "n=0\n",
    "while x>=1 and x<=500:\n",
    "    x=x+1\n",
    "    \n",
    "    d=x%10\n",
    "    q=x//10\n",
    "\n",
    "    d1=q%10\n",
    "    q1=q//10\n",
    "    \n",
    "    d2=q1%10\n",
    "    q2=q1//10\n",
    "    \n",
    "    if x==(d*d*d)+(d1*d1*d1)+(d2*d2*d2):\n",
    "        print(\"Armstrong No. =\",x)\n",
    "        n=n+1\n",
    "    else:\n",
    "        continue\n",
    "print(n)"
   ]
  },
  {
   "cell_type": "code",
   "execution_count": null,
   "id": "765bbee3",
   "metadata": {},
   "outputs": [],
   "source": []
  },
  {
   "cell_type": "code",
   "execution_count": 23,
   "id": "93043a34",
   "metadata": {},
   "outputs": [
    {
     "name": "stdout",
     "output_type": "stream",
     "text": [
      "enter a number153\n",
      "3 27 27\n",
      "5 125 152\n",
      "1 1 153\n",
      "153\n",
      "Armstrong No. = 153 = 153\n"
     ]
    }
   ],
   "source": [
    "x=int(input(\"enter a number\"))\n",
    "n=x\n",
    "f=0\n",
    "while x>=1:\n",
    "    d=x%10\n",
    "    q=x//10\n",
    "    x=q\n",
    "    p=d*d*d\n",
    "    f=f+p\n",
    "    print(d,p,f)\n",
    "    \n",
    "print(n)    \n",
    "if n==f:\n",
    "    print(\"Armstrong No. =\",n,\"=\",f)\n",
    "else:\n",
    "    print(\"Not a Armstrong Number\")"
   ]
  },
  {
   "cell_type": "code",
   "execution_count": null,
   "id": "08dcde2f",
   "metadata": {},
   "outputs": [],
   "source": []
  },
  {
   "cell_type": "code",
   "execution_count": 2,
   "id": "05a718e4",
   "metadata": {},
   "outputs": [
    {
     "name": "stdout",
     "output_type": "stream",
     "text": [
      "0\n"
     ]
    }
   ],
   "source": [
    "x=1\n",
    "n=0\n",
    "while x>1 and x<=300:\n",
    "    x=x+1\n",
    "    if x%n==0:\n",
    "        print(x,\"prime\")\n",
    "        n=n+1\n",
    "    else:\n",
    "        continue\n",
    "print(n)"
   ]
  },
  {
   "cell_type": "code",
   "execution_count": null,
   "id": "8b356a4e",
   "metadata": {},
   "outputs": [],
   "source": []
  },
  {
   "cell_type": "code",
   "execution_count": 16,
   "id": "2b343a00",
   "metadata": {},
   "outputs": [
    {
     "name": "stdout",
     "output_type": "stream",
     "text": [
      "Enter any no. :67\n",
      "Enter any no. :45\n",
      "Enter any no. :99\n",
      "Enter any no. :78\n",
      "Enter any no. :99\n",
      "e\n"
     ]
    }
   ],
   "source": [
    "a=int(input(\"Enter any no. :\"))\n",
    "b=int(input(\"Enter any no. :\"))\n",
    "c=int(input(\"Enter any no. :\"))\n",
    "d=int(input(\"Enter any no. :\"))\n",
    "e=int(input(\"Enter any no. :\"))\n",
    "while a>1:\n",
    "    if a>(b and c and d and e):\n",
    "        print (\"a\")\n",
    "        break\n",
    "    else:\n",
    "        if b>(c and d and e):\n",
    "            print(\"b\")\n",
    "            break\n",
    "        else:\n",
    "            if c>(d and e):\n",
    "                print(\"c\")\n",
    "                break\n",
    "            else:\n",
    "                if d>e:\n",
    "                    print(\"d\")\n",
    "                    break\n",
    "                else:\n",
    "                    print(\"e\")\n",
    "                    break"
   ]
  },
  {
   "cell_type": "code",
   "execution_count": 19,
   "id": "ddda7d12",
   "metadata": {},
   "outputs": [
    {
     "name": "stdout",
     "output_type": "stream",
     "text": [
      "Enter any no. :567898765\n",
      "Palindrome Number 567898765 == 567898765\n"
     ]
    }
   ],
   "source": [
    "n=int(input(\"Enter any no. :\"))\n",
    "x=n\n",
    "s=0\n",
    "while n>=1:\n",
    "    d=n%10\n",
    "    q=n//10\n",
    "    n=q\n",
    "    \n",
    "    s=s*10+d\n",
    "    \n",
    "if str(s)==str(x):\n",
    "    print(\"Palindrome Number :\",str(x),\"==\",str(s))\n",
    "else :\n",
    "    print(\"Not a Palindrome Number :\",str(x),\"=/=\",str(s))"
   ]
  },
  {
   "cell_type": "code",
   "execution_count": null,
   "id": "92e4b4f6",
   "metadata": {},
   "outputs": [],
   "source": []
  },
  {
   "cell_type": "code",
   "execution_count": 24,
   "id": "4b659cc7",
   "metadata": {},
   "outputs": [
    {
     "name": "stdout",
     "output_type": "stream",
     "text": [
      "Enter any no. :4\n",
      "Enter any no. :5\n",
      "1024\n"
     ]
    }
   ],
   "source": [
    "n1=int(input(\"Enter any no. :\"))\n",
    "n2=int(input(\"Enter any no. :\"))\n",
    "print(n1**n2)"
   ]
  },
  {
   "cell_type": "code",
   "execution_count": 6,
   "id": "d7a6022d",
   "metadata": {},
   "outputs": [
    {
     "name": "stdout",
     "output_type": "stream",
     "text": [
      "5 5 5 5 5\n",
      "4 4 4 4 4\n",
      "3 3 3 3 3\n",
      "2 2 2 2 2\n",
      "1 1 1 1 1\n"
     ]
    }
   ],
   "source": [
    "n=5\n",
    "while n>=1 and n<=5:\n",
    "    print(n,n,n,n,n)\n",
    "    n=n-1"
   ]
  },
  {
   "cell_type": "code",
   "execution_count": null,
   "id": "e8323bba",
   "metadata": {},
   "outputs": [],
   "source": []
  }
 ],
 "metadata": {
  "kernelspec": {
   "display_name": "Python 3 (ipykernel)",
   "language": "python",
   "name": "python3"
  },
  "language_info": {
   "codemirror_mode": {
    "name": "ipython",
    "version": 3
   },
   "file_extension": ".py",
   "mimetype": "text/x-python",
   "name": "python",
   "nbconvert_exporter": "python",
   "pygments_lexer": "ipython3",
   "version": "3.9.13"
  }
 },
 "nbformat": 4,
 "nbformat_minor": 5
}
