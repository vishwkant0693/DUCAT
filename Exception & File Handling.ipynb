{
 "cells": [
  {
   "cell_type": "code",
   "execution_count": 1,
   "id": "26ab7a35",
   "metadata": {},
   "outputs": [
    {
     "data": {
      "text/plain": [
       "10"
      ]
     },
     "execution_count": 1,
     "metadata": {},
     "output_type": "execute_result"
    }
   ],
   "source": [
    "x=10\n",
    "x"
   ]
  },
  {
   "cell_type": "code",
   "execution_count": 2,
   "id": "2b756f0c",
   "metadata": {},
   "outputs": [
    {
     "ename": "NameError",
     "evalue": "name 'y' is not defined",
     "output_type": "error",
     "traceback": [
      "\u001b[1;31m---------------------------------------------------------------------------\u001b[0m",
      "\u001b[1;31mNameError\u001b[0m                                 Traceback (most recent call last)",
      "\u001b[1;32m~\\AppData\\Local\\Temp\\ipykernel_2836\\1525011898.py\u001b[0m in \u001b[0;36m<module>\u001b[1;34m\u001b[0m\n\u001b[1;32m----> 1\u001b[1;33m \u001b[0mx\u001b[0m\u001b[1;33m+\u001b[0m\u001b[0my\u001b[0m\u001b[1;33m\u001b[0m\u001b[1;33m\u001b[0m\u001b[0m\n\u001b[0m",
      "\u001b[1;31mNameError\u001b[0m: name 'y' is not defined"
     ]
    }
   ],
   "source": [
    "x+y"
   ]
  },
  {
   "cell_type": "code",
   "execution_count": 4,
   "id": "54fbb0c5",
   "metadata": {},
   "outputs": [
    {
     "name": "stdout",
     "output_type": "stream",
     "text": [
      "Enter a number :5\n",
      "NameError : name 'y' is not defined\n"
     ]
    }
   ],
   "source": [
    "x=int(input(\"Enter a number :\"))\n",
    "try:\n",
    "    print(x+y)\n",
    "    \n",
    "except Exception as ne:\n",
    "    print(\"NameError :\",ne)"
   ]
  },
  {
   "cell_type": "code",
   "execution_count": 7,
   "id": "0dd38543",
   "metadata": {},
   "outputs": [
    {
     "name": "stdout",
     "output_type": "stream",
     "text": [
      "Enter a number :5\n",
      "Enter a number :6\n",
      "11\n",
      "\n",
      "Thanks\n"
     ]
    }
   ],
   "source": [
    "x=int(input(\"Enter a number :\"))\n",
    "try:\n",
    "    y=int(input(\"Enter a number :\"))\n",
    "    print(x+y)\n",
    "    \n",
    "except:\n",
    "    print(\"Error\")\n",
    "else:\n",
    "    print(\"\\nThanks\")"
   ]
  },
  {
   "cell_type": "code",
   "execution_count": 10,
   "id": "1b6dd92e",
   "metadata": {},
   "outputs": [
    {
     "name": "stdout",
     "output_type": "stream",
     "text": [
      "Enter a number :5\n",
      "Enter a number :ty\n",
      "Error invalid literal for int() with base 10: 'ty'\n"
     ]
    }
   ],
   "source": [
    "try:\n",
    "    x=int(input(\"Enter a number :\"))\n",
    "    y=int(input(\"Enter a number :\"))\n",
    "    print(x+y)\n",
    "    \n",
    "except Exception as e:  #capitalize Exception\n",
    "    print(\"Error\",e)"
   ]
  },
  {
   "cell_type": "code",
   "execution_count": 12,
   "id": "177f4d82",
   "metadata": {},
   "outputs": [
    {
     "name": "stdout",
     "output_type": "stream",
     "text": [
      "Enter Index :4\n",
      "Enter a number :5\n",
      "error\n"
     ]
    }
   ],
   "source": [
    "l=[12,56]\n",
    "try:\n",
    "    n1=int(input(\"Enter Index :\"))\n",
    "    m1=int(input(\"Enter a number :\"))\n",
    "    print(l[n1])\n",
    "    print(l[n1]/m1)\n",
    "    \n",
    "except:\n",
    "    print(\"error\")"
   ]
  },
  {
   "cell_type": "code",
   "execution_count": 14,
   "id": "88e4a25f",
   "metadata": {},
   "outputs": [
    {
     "name": "stdout",
     "output_type": "stream",
     "text": [
      "Enter Index :1\n",
      "Enter a number :0\n",
      "56\n",
      "error division by zero\n"
     ]
    }
   ],
   "source": [
    "l=[12,56]\n",
    "try:\n",
    "    n1=int(input(\"Enter Index :\"))\n",
    "    m1=int(input(\"Enter a number :\"))\n",
    "    print(l[n1])\n",
    "    print(l[n1]/m1)\n",
    "    \n",
    "except Exception as e:\n",
    "    print(\"error\",e)"
   ]
  },
  {
   "cell_type": "code",
   "execution_count": 16,
   "id": "37952551",
   "metadata": {},
   "outputs": [
    {
     "name": "stdout",
     "output_type": "stream",
     "text": [
      "Enter Index :5\n",
      "Enter a number :g\n",
      "error invalid literal for int() with base 10: 'g'\n",
      "\n",
      "End\n"
     ]
    }
   ],
   "source": [
    "l=[12,56]\n",
    "try:\n",
    "    n1=int(input(\"Enter Index :\"))\n",
    "    m1=int(input(\"Enter a number :\"))\n",
    "    print(l[n1])\n",
    "    print(l[n1]/m1)\n",
    "    \n",
    "except Exception as e:\n",
    "    print(\"error\",e)\n",
    "finally:\n",
    "    print(\"\\nEnd\")"
   ]
  },
  {
   "cell_type": "code",
   "execution_count": 19,
   "id": "da9b5fe8",
   "metadata": {},
   "outputs": [
    {
     "name": "stdout",
     "output_type": "stream",
     "text": [
      "Enter Index :tr\n",
      "Error : invalid literal for int() with base 10: 'tr'\n"
     ]
    }
   ],
   "source": [
    "l=[12,56]\n",
    "try:\n",
    "    n1=int(input(\"Enter Index :\"))\n",
    "    m1=int(input(\"Enter a number :\"))\n",
    "    print(l[n1])\n",
    "    print(l[n1]/m1)\n",
    "    \n",
    "except IndexError:\n",
    "    print(\"IndexError\")\n",
    "    \n",
    "except ZeroDivisionError:\n",
    "    print(\"ZeroDivisionError\")\n",
    "    \n",
    "except Exception as er:\n",
    "    print(\"Error :\",er)"
   ]
  },
  {
   "cell_type": "code",
   "execution_count": null,
   "id": "6fc38e12",
   "metadata": {},
   "outputs": [],
   "source": []
  },
  {
   "cell_type": "code",
   "execution_count": 5,
   "id": "50292ee2",
   "metadata": {},
   "outputs": [
    {
     "name": "stdout",
     "output_type": "stream",
     "text": [
      "Pin no.99\n",
      "Wrong Pin\n",
      "\n",
      "Pin no.34\n",
      "Wrong Pin\n",
      "\n",
      "Pin no.1000\n",
      "\n",
      "Welcome\n",
      "Access Granted\n",
      "\n",
      "Thanks\n"
     ]
    }
   ],
   "source": [
    "c=1\n",
    "while True:\n",
    "    p=int(input(\"Pin no.\"))\n",
    "    if c>3:\n",
    "        try:\n",
    "            raise NameError (\"Data Not Matched\")\n",
    "        except NameError as ne:\n",
    "            print(\"Error :\",ne)\n",
    "            break\n",
    "    if p==1000:\n",
    "        print(\"\\nWelcome\")\n",
    "        print(\"Access Granted\")\n",
    "        break\n",
    "    print(\"Wrong Pin\\n\")\n",
    "    c=c+1\n",
    "print(\"\\nThanks\")"
   ]
  },
  {
   "cell_type": "code",
   "execution_count": null,
   "id": "5ef22a50",
   "metadata": {},
   "outputs": [],
   "source": []
  },
  {
   "cell_type": "markdown",
   "id": "19ccea6c",
   "metadata": {},
   "source": [
    "# Task File Handling"
   ]
  },
  {
   "cell_type": "code",
   "execution_count": 19,
   "id": "1cc0fe65",
   "metadata": {},
   "outputs": [
    {
     "name": "stdout",
     "output_type": "stream",
     "text": [
      "(vk@gmail.com,0000,vkant,01-01-00,8368619624,Delhi),\n",
      "(sk@gmail.com,1111,skant,01-02-00,836123624,Delhi),\n",
      "(pr@gmail.com,2222,praa,01-03-00,9757619624,Delhi),\n",
      "(kr@gmail.com,3333,kr0z,01-04-00,8364167874,Delhi).\n",
      "\n"
     ]
    }
   ],
   "source": [
    "f=open(\"intro.txt\",\"r\")\n",
    "w=f.read()\n",
    "print(w)"
   ]
  },
  {
   "cell_type": "code",
   "execution_count": null,
   "id": "dfa2ed84",
   "metadata": {},
   "outputs": [],
   "source": []
  },
  {
   "cell_type": "code",
   "execution_count": null,
   "id": "0bee90e6",
   "metadata": {},
   "outputs": [],
   "source": []
  },
  {
   "cell_type": "code",
   "execution_count": null,
   "id": "02a3d5c5",
   "metadata": {},
   "outputs": [],
   "source": []
  },
  {
   "cell_type": "code",
   "execution_count": null,
   "id": "3b83b4c1",
   "metadata": {},
   "outputs": [],
   "source": []
  },
  {
   "cell_type": "code",
   "execution_count": null,
   "id": "11fa5c84",
   "metadata": {},
   "outputs": [],
   "source": []
  },
  {
   "cell_type": "code",
   "execution_count": 25,
   "id": "b163fbca",
   "metadata": {},
   "outputs": [
    {
     "name": "stdout",
     "output_type": "stream",
     "text": [
      "Enter your email :kr@gmail.com\n",
      "Password :3333\n",
      "(kr@gmail.com,3333,kr0z,01-04-00,8364167874,Delhi).\n",
      "\n"
     ]
    }
   ],
   "source": [
    "try:\n",
    "    a = input(\"Enter your email :\")\n",
    "    p = int(input(\"Password :\"))\n",
    "    if a==\"vk@gmail.com\":\n",
    "        if p==0000:\n",
    "            file=open(\"intro.txt\",\"r\")\n",
    "            w=file.readlines()[0]\n",
    "            print(w)\n",
    "        else:\n",
    "            print(\"Wrong Password.\")\n",
    "    \n",
    "    elif a==\"sk@gmail.com\":\n",
    "        if p==1111:\n",
    "            file=open(\"intro.txt\",\"r\")\n",
    "            w=file.readlines()[1]\n",
    "            print(w)\n",
    "        else:\n",
    "            print(\"Wrong Password.\")\n",
    "    \n",
    "    elif a==\"pr@gmail.com\":\n",
    "        if p==2222:\n",
    "            file=open(\"intro.txt\",\"r\")\n",
    "            w=file.readlines()[2]\n",
    "            print(w)\n",
    "        else:\n",
    "            print(\"Wrong Password.\")\n",
    "            \n",
    "    elif a==\"kr@gmail.com\":\n",
    "        if p==3333:\n",
    "            file=open(\"intro.txt\",\"r\")\n",
    "            w=file.readlines()[3]\n",
    "            print(w)\n",
    "        else:\n",
    "            print(\"Wrong Password.\")\n",
    "    else:\n",
    "        print(\"Don't have an account.\")\n",
    "    \n",
    "except:\n",
    "    print(\"Error\")"
   ]
  },
  {
   "cell_type": "code",
   "execution_count": null,
   "id": "af409e3f",
   "metadata": {},
   "outputs": [],
   "source": []
  },
  {
   "cell_type": "code",
   "execution_count": null,
   "id": "492d1b4a",
   "metadata": {},
   "outputs": [],
   "source": []
  },
  {
   "cell_type": "code",
   "execution_count": null,
   "id": "256e5a7d",
   "metadata": {},
   "outputs": [],
   "source": []
  },
  {
   "cell_type": "code",
   "execution_count": null,
   "id": "b031f7df",
   "metadata": {},
   "outputs": [],
   "source": []
  },
  {
   "cell_type": "code",
   "execution_count": null,
   "id": "ce1745f6",
   "metadata": {},
   "outputs": [],
   "source": []
  },
  {
   "cell_type": "code",
   "execution_count": null,
   "id": "8c4b3dad",
   "metadata": {},
   "outputs": [],
   "source": []
  }
 ],
 "metadata": {
  "kernelspec": {
   "display_name": "Python 3 (ipykernel)",
   "language": "python",
   "name": "python3"
  },
  "language_info": {
   "codemirror_mode": {
    "name": "ipython",
    "version": 3
   },
   "file_extension": ".py",
   "mimetype": "text/x-python",
   "name": "python",
   "nbconvert_exporter": "python",
   "pygments_lexer": "ipython3",
   "version": "3.9.13"
  }
 },
 "nbformat": 4,
 "nbformat_minor": 5
}
