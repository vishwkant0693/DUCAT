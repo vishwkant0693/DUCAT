{
 "cells": [
  {
   "cell_type": "code",
   "execution_count": 3,
   "id": "fa7e663e",
   "metadata": {},
   "outputs": [
    {
     "name": "stdout",
     "output_type": "stream",
     "text": [
      "Enter a value :7\n",
      "Odd\n"
     ]
    }
   ],
   "source": [
    "k= float(input (\"Enter a value :\")) \n",
    "print(\"Even\") if ((k%2)==0) else print(\"Odd\") "
   ]
  },
  {
   "cell_type": "code",
   "execution_count": null,
   "id": "8b9c2b0f",
   "metadata": {},
   "outputs": [],
   "source": [
    "#1"
   ]
  },
  {
   "cell_type": "code",
   "execution_count": 3,
   "id": "3114acd6",
   "metadata": {},
   "outputs": [
    {
     "name": "stdout",
     "output_type": "stream",
     "text": [
      "Distance btw two cities : 6\n",
      "Distance in meters ; 6.0\n",
      "Distance in feet ; 19.68\n",
      "Distance in meters ; 236.21999999999997\n",
      "Distance in meters ; 600.0\n"
     ]
    }
   ],
   "source": [
    "d=float(input(\"Distance btw two cities : \"))\n",
    "print(\"Distance in meters ;\",d);print(\"Distance in feet ;\",3.28*d);print(\"Distance in meters ;\",39.37*d);print(\"Distance in meters ;\",100*d)"
   ]
  },
  {
   "cell_type": "code",
   "execution_count": null,
   "id": "79b9706d",
   "metadata": {},
   "outputs": [],
   "source": [
    "#2"
   ]
  },
  {
   "cell_type": "code",
   "execution_count": 5,
   "id": "1b64cc68",
   "metadata": {},
   "outputs": [
    {
     "name": "stdout",
     "output_type": "stream",
     "text": [
      "Marks Obtained In English : 80\n",
      "Marks Obtained In Physics : 80\n",
      "Marks Obtained In Chemistry : 80\n",
      "Marks Obtained In Biology : 80\n",
      "Marks Obtained In Mathematics : 80\n",
      "Percentage :  80.0 %\n",
      "Aggregate marks :  400.0\n"
     ]
    }
   ],
   "source": [
    "a=float(input(\"Marks Obtained In English : \"))\n",
    "b=float(input(\"Marks Obtained In Physics : \"))\n",
    "c=float(input(\"Marks Obtained In Chemistry : \"))\n",
    "d=float(input(\"Marks Obtained In Biology : \"))\n",
    "e=float(input(\"Marks Obtained In Mathematics : \"))\n",
    "x=(a+b+c+d+e)/5\n",
    "print(\"Percentage : \",x,(\"%\"));print(\"Aggregate marks : \",(a+b+c+d+e))"
   ]
  },
  {
   "cell_type": "code",
   "execution_count": 6,
   "id": "65d530dc",
   "metadata": {},
   "outputs": [],
   "source": [
    "#3"
   ]
  },
  {
   "cell_type": "code",
   "execution_count": 7,
   "id": "d3ed5913",
   "metadata": {},
   "outputs": [
    {
     "name": "stdout",
     "output_type": "stream",
     "text": [
      "Temperature in F : 98.7\n",
      "Temperature in C :  37.05555555555556\n"
     ]
    }
   ],
   "source": [
    "t=float(input(\"Temperature in F : \"))\n",
    "x=(t-32)*(5/9)\n",
    "print(\"Temperature in C : \",x)"
   ]
  },
  {
   "cell_type": "code",
   "execution_count": 8,
   "id": "c6660a2c",
   "metadata": {},
   "outputs": [],
   "source": [
    "#4"
   ]
  },
  {
   "cell_type": "code",
   "execution_count": 9,
   "id": "4a566ec0",
   "metadata": {},
   "outputs": [
    {
     "name": "stdout",
     "output_type": "stream",
     "text": [
      "Lenght of Rectangle :4\n",
      "Breadth of Rectangle :5\n",
      "Radius of a Circle :6\n",
      "Area of Rectangle :  20.0\n",
      "Parimeter of Rectangle :  18.0\n",
      "Area of Circle :  113.14285714285714\n",
      "Circumference of Circle :  37.714285714285715\n"
     ]
    }
   ],
   "source": [
    "l= float(input (\"Lenght of Rectangle :\")) \n",
    "b= float(input (\"Breadth of Rectangle :\")) \n",
    "r= float(input (\"Radius of a Circle :\")) \n",
    "print(\"Area of Rectangle : \",(l*b));print(\"Parimeter of Rectangle : \",(2*(l+b)));print(\"Area of Circle : \",((22/7)*(r**2)));print(\"Circumference of Circle : \",(2*(22/7)*r))"
   ]
  },
  {
   "cell_type": "code",
   "execution_count": 10,
   "id": "cdd59c49",
   "metadata": {},
   "outputs": [],
   "source": [
    "#5"
   ]
  },
  {
   "cell_type": "code",
   "execution_count": 19,
   "id": "d815faa6",
   "metadata": {},
   "outputs": [
    {
     "name": "stdout",
     "output_type": "stream",
     "text": [
      "Selling Price :1500\n",
      "Profit Earned :500\n",
      "Cost price :  66.66666666666667\n"
     ]
    }
   ],
   "source": [
    "s= float(input (\"Selling Price :\")) \n",
    "p= float(input (\"Profit Earned :\")) \n",
    "print(\"Cost price : \",((s-p)/15))"
   ]
  },
  {
   "cell_type": "code",
   "execution_count": 12,
   "id": "d09c0d33",
   "metadata": {},
   "outputs": [],
   "source": [
    "#6    "
   ]
  },
  {
   "cell_type": "code",
   "execution_count": 2,
   "id": "ab8f3df5",
   "metadata": {},
   "outputs": [
    {
     "name": "stdout",
     "output_type": "stream",
     "text": [
      "Enter any five digit number : 89898\n",
      "Sum of numbers :  42.0\n"
     ]
    }
   ],
   "source": [
    "n=float(input (\"Enter any five digit number : \")) \n",
    "\n",
    "a=n%10\n",
    "n=n//10\n",
    "\n",
    "a1=n%10\n",
    "n1=n//10\n",
    "\n",
    "a2=n1%10\n",
    "n2=n1//10\n",
    "\n",
    "a3=n2%10\n",
    "n3=n2//10\n",
    "\n",
    "a4=n3%10\n",
    "q4=n3//10\n",
    "\n",
    "s=a+a1+a2+a3+a4\n",
    "\n",
    "print(\"Sum of numbers : \",s)"
   ]
  },
  {
   "cell_type": "code",
   "execution_count": 14,
   "id": "aace4ad7",
   "metadata": {},
   "outputs": [],
   "source": [
    "#7"
   ]
  },
  {
   "cell_type": "code",
   "execution_count": 10,
   "id": "2e336b10",
   "metadata": {},
   "outputs": [
    {
     "name": "stdout",
     "output_type": "stream",
     "text": [
      "Enter any amount : 37568\n",
      "Number of thousands :  18.0\n",
      "Number of five hundreds :  3.0\n",
      "Number of two hundreds :  0.0\n",
      "Number of hundreds :  0.0\n",
      "Number of fifties :  1.0\n",
      "Number of tens :  1.0\n",
      "Number of fives :  1.0\n",
      "Number of twos :  1.0\n",
      "Number of ones :  1.0\n"
     ]
    }
   ],
   "source": [
    "num=float(input (\"Enter any amount : \")) \n",
    "ntt=num//2000 #q\n",
    "num=num%2000  #rem\n",
    "\n",
    "nfh=num//500\n",
    "num=num%500\n",
    "\n",
    "nth=num//200\n",
    "num=num%200\n",
    "\n",
    "n1=num//100\n",
    "num=num%100\n",
    "\n",
    "n2=num//50\n",
    "num=num%50\n",
    "\n",
    "n3=num//10\n",
    "num=num%10\n",
    "\n",
    "n4=num//5\n",
    "num=num%5\n",
    "\n",
    "n5=num//2\n",
    "num=num%2\n",
    "\n",
    "n6=num//1\n",
    "num=num%1\n",
    "\n",
    "print(\"Number of two thousands : \",ntt);print(\"Number of five hundreds : \",nfh);print(\"Number of two hundreds : \",nth);print(\"Number of hundreds : \",n1);print(\"Number of fifties : \",n2);print(\"Number of tens : \",n3);print(\"Number of fives : \",n4);print(\"Number of twos : \",n5);print(\"Number of ones : \",n6)"
   ]
  },
  {
   "cell_type": "code",
   "execution_count": 15,
   "id": "8ef233da",
   "metadata": {},
   "outputs": [],
   "source": [
    "#8"
   ]
  },
  {
   "cell_type": "code",
   "execution_count": 25,
   "id": "f7df7ca0",
   "metadata": {},
   "outputs": [
    {
     "name": "stdout",
     "output_type": "stream",
     "text": [
      "Side of Triangle :6\n",
      "Side of Triangle :6\n",
      "Side of Triangle :6\n",
      "The area of the triangle is ;  426.0\n",
      "Semi-Perimeter of the triangle is ;  9.0\n"
     ]
    }
   ],
   "source": [
    "j= float(input (\"Side of Triangle :\")) \n",
    "k= float(input (\"Side of Triangle :\")) \n",
    "l= float(input (\"Side of Triangle :\")) \n",
    "s=((j+k+l)/2)\n",
    "area = (s*(s-a)*(s-b)*(s-c)) ** 0.5 \n",
    "print('The area of the triangle is ; ' ,area);print('Semi-Perimeter of the triangle is ; ' ,s)"
   ]
  },
  {
   "cell_type": "code",
   "execution_count": null,
   "id": "715e5759",
   "metadata": {},
   "outputs": [],
   "source": []
  },
  {
   "cell_type": "code",
   "execution_count": null,
   "id": "83a48cec",
   "metadata": {},
   "outputs": [],
   "source": []
  },
  {
   "cell_type": "code",
   "execution_count": null,
   "id": "caa291de",
   "metadata": {},
   "outputs": [],
   "source": []
  },
  {
   "cell_type": "code",
   "execution_count": 2,
   "id": "2f5ee568",
   "metadata": {},
   "outputs": [
    {
     "name": "stdout",
     "output_type": "stream",
     "text": [
      "Enter any number-78\n",
      "-ve\n"
     ]
    }
   ],
   "source": [
    "x=int(input(\"Enter any number :\"))\n",
    "print(\"+ve\") if x>-1 else print(\"-ve\")"
   ]
  },
  {
   "cell_type": "code",
   "execution_count": 3,
   "id": "bd82399b",
   "metadata": {},
   "outputs": [
    {
     "name": "stdout",
     "output_type": "stream",
     "text": [
      "Marks Obtained in Physics : 98\n",
      "Marks Obtained in Chemistry : 78\n",
      "Marks Obtained in Mathematics : 90\n",
      "Total Marks Obtained :  266.0 / 300\n",
      "Percentage : 88.66666666666667 %\n",
      "1st\n"
     ]
    }
   ],
   "source": [
    "p= float(input (\"Marks Obtained in Physics : \")) \n",
    "c= float(input (\"Marks Obtained in Chemistry : \")) \n",
    "m= float(input (\"Marks Obtained in Mathematics : \")) \n",
    "t=p+c+m\n",
    "pr=t/300*100\n",
    "print(\"Total Marks Obtained : \",t,\"/ 300\")\n",
    "print(\"Percentage :\",pr,\"%\")\n",
    "print(\"FAIL\") if pr<34 else( print(\"3rd\") if pr<46 else ( print(\"2nd\") if pr<60 else print(\"1st\")    )  ) "
   ]
  },
  {
   "cell_type": "code",
   "execution_count": null,
   "id": "057843c5",
   "metadata": {},
   "outputs": [],
   "source": []
  }
 ],
 "metadata": {
  "kernelspec": {
   "display_name": "Python 3 (ipykernel)",
   "language": "python",
   "name": "python3"
  },
  "language_info": {
   "codemirror_mode": {
    "name": "ipython",
    "version": 3
   },
   "file_extension": ".py",
   "mimetype": "text/x-python",
   "name": "python",
   "nbconvert_exporter": "python",
   "pygments_lexer": "ipython3",
   "version": "3.9.13"
  }
 },
 "nbformat": 4,
 "nbformat_minor": 5
}
